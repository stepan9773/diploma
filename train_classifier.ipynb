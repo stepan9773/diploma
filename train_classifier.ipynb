{
 "metadata": {
  "kernelspec": {
   "language": "python",
   "display_name": "Python 3",
   "name": "python3"
  },
  "language_info": {
   "name": "python",
   "version": "3.7.10",
   "mimetype": "text/x-python",
   "codemirror_mode": {
    "name": "ipython",
    "version": 3
   },
   "pygments_lexer": "ipython3",
   "nbconvert_exporter": "python",
   "file_extension": ".py"
  }
 },
 "nbformat_minor": 4,
 "nbformat": 4,
 "cells": [
  {
   "cell_type": "code",
   "source": [
    "import pandas as pd\n",
    "import numpy as np"
   ],
   "metadata": {
    "execution": {
     "iopub.status.busy": "2021-06-27T09:54:36.346845Z",
     "iopub.execute_input": "2021-06-27T09:54:36.347450Z",
     "iopub.status.idle": "2021-06-27T09:54:37.626888Z",
     "shell.execute_reply.started": "2021-06-27T09:54:36.347318Z",
     "shell.execute_reply": "2021-06-27T09:54:37.625658Z"
    },
    "trusted": true,
    "ExecuteTime": {
     "end_time": "2023-04-30T18:57:39.573904200Z",
     "start_time": "2023-04-30T18:57:38.807953300Z"
    }
   },
   "execution_count": 1,
   "outputs": []
  },
  {
   "cell_type": "code",
   "execution_count": 2,
   "outputs": [
    {
     "data": {
      "text/plain": "   Unnamed: 0                                               text  is_fake\n0           0                             Get fucking real dude.        1\n1           1   She is as dirty as they come  and that crook ...        1\n2           2   why did you fuck it up. I could do it all day...        1\n3           3   Dude they dont finish enclosing the fucking s...        1\n4           4   WTF are you talking about Men? No men thats n...        1",
      "text/html": "<div>\n<style scoped>\n    .dataframe tbody tr th:only-of-type {\n        vertical-align: middle;\n    }\n\n    .dataframe tbody tr th {\n        vertical-align: top;\n    }\n\n    .dataframe thead th {\n        text-align: right;\n    }\n</style>\n<table border=\"1\" class=\"dataframe\">\n  <thead>\n    <tr style=\"text-align: right;\">\n      <th></th>\n      <th>Unnamed: 0</th>\n      <th>text</th>\n      <th>is_fake</th>\n    </tr>\n  </thead>\n  <tbody>\n    <tr>\n      <th>0</th>\n      <td>0</td>\n      <td>Get fucking real dude.</td>\n      <td>1</td>\n    </tr>\n    <tr>\n      <th>1</th>\n      <td>1</td>\n      <td>She is as dirty as they come  and that crook ...</td>\n      <td>1</td>\n    </tr>\n    <tr>\n      <th>2</th>\n      <td>2</td>\n      <td>why did you fuck it up. I could do it all day...</td>\n      <td>1</td>\n    </tr>\n    <tr>\n      <th>3</th>\n      <td>3</td>\n      <td>Dude they dont finish enclosing the fucking s...</td>\n      <td>1</td>\n    </tr>\n    <tr>\n      <th>4</th>\n      <td>4</td>\n      <td>WTF are you talking about Men? No men thats n...</td>\n      <td>1</td>\n    </tr>\n  </tbody>\n</table>\n</div>"
     },
     "execution_count": 2,
     "metadata": {},
     "output_type": "execute_result"
    }
   ],
   "source": [
    "# is_fake_title.csv\n",
    "# is_sus.csv\n",
    "# is_toxic.csv\n",
    "# trfl.csv\n",
    "\n",
    "\n",
    "dataset = 'is_sus'\n",
    "news = pd.read_csv(f\"data/{dataset}.csv\")\n",
    "news.head()"
   ],
   "metadata": {
    "collapsed": false,
    "ExecuteTime": {
     "end_time": "2023-04-30T18:57:40.538325300Z",
     "start_time": "2023-04-30T18:57:40.418643900Z"
    }
   }
  },
  {
   "cell_type": "code",
   "source": [
    "# category\n",
    "target = 'is_fake'\n",
    "news = news[['text',target]].dropna()\n",
    "news.head()"
   ],
   "metadata": {
    "execution": {
     "iopub.status.busy": "2021-06-27T09:54:37.670928Z",
     "iopub.execute_input": "2021-06-27T09:54:37.671331Z",
     "iopub.status.idle": "2021-06-27T09:54:37.715206Z",
     "shell.execute_reply.started": "2021-06-27T09:54:37.671302Z",
     "shell.execute_reply": "2021-06-27T09:54:37.714293Z"
    },
    "trusted": true,
    "ExecuteTime": {
     "end_time": "2023-04-30T18:57:42.895021100Z",
     "start_time": "2023-04-30T18:57:42.851138400Z"
    }
   },
   "execution_count": 3,
   "outputs": [
    {
     "data": {
      "text/plain": "                                                text  is_fake\n0                             Get fucking real dude.        1\n1   She is as dirty as they come  and that crook ...        1\n2   why did you fuck it up. I could do it all day...        1\n3   Dude they dont finish enclosing the fucking s...        1\n4   WTF are you talking about Men? No men thats n...        1",
      "text/html": "<div>\n<style scoped>\n    .dataframe tbody tr th:only-of-type {\n        vertical-align: middle;\n    }\n\n    .dataframe tbody tr th {\n        vertical-align: top;\n    }\n\n    .dataframe thead th {\n        text-align: right;\n    }\n</style>\n<table border=\"1\" class=\"dataframe\">\n  <thead>\n    <tr style=\"text-align: right;\">\n      <th></th>\n      <th>text</th>\n      <th>is_fake</th>\n    </tr>\n  </thead>\n  <tbody>\n    <tr>\n      <th>0</th>\n      <td>Get fucking real dude.</td>\n      <td>1</td>\n    </tr>\n    <tr>\n      <th>1</th>\n      <td>She is as dirty as they come  and that crook ...</td>\n      <td>1</td>\n    </tr>\n    <tr>\n      <th>2</th>\n      <td>why did you fuck it up. I could do it all day...</td>\n      <td>1</td>\n    </tr>\n    <tr>\n      <th>3</th>\n      <td>Dude they dont finish enclosing the fucking s...</td>\n      <td>1</td>\n    </tr>\n    <tr>\n      <th>4</th>\n      <td>WTF are you talking about Men? No men thats n...</td>\n      <td>1</td>\n    </tr>\n  </tbody>\n</table>\n</div>"
     },
     "execution_count": 3,
     "metadata": {},
     "output_type": "execute_result"
    }
   ]
  },
  {
   "cell_type": "code",
   "execution_count": 4,
   "outputs": [
    {
     "data": {
      "text/plain": "          text       is_fake\ncount    20001  20001.000000\nunique   14637           NaN\ntop     #NAME?           NaN\nfreq        41           NaN\nmean       NaN      0.391080\nstd        NaN      0.488005\nmin        NaN      0.000000\n25%        NaN      0.000000\n50%        NaN      0.000000\n75%        NaN      1.000000\nmax        NaN      1.000000",
      "text/html": "<div>\n<style scoped>\n    .dataframe tbody tr th:only-of-type {\n        vertical-align: middle;\n    }\n\n    .dataframe tbody tr th {\n        vertical-align: top;\n    }\n\n    .dataframe thead th {\n        text-align: right;\n    }\n</style>\n<table border=\"1\" class=\"dataframe\">\n  <thead>\n    <tr style=\"text-align: right;\">\n      <th></th>\n      <th>text</th>\n      <th>is_fake</th>\n    </tr>\n  </thead>\n  <tbody>\n    <tr>\n      <th>count</th>\n      <td>20001</td>\n      <td>20001.000000</td>\n    </tr>\n    <tr>\n      <th>unique</th>\n      <td>14637</td>\n      <td>NaN</td>\n    </tr>\n    <tr>\n      <th>top</th>\n      <td>#NAME?</td>\n      <td>NaN</td>\n    </tr>\n    <tr>\n      <th>freq</th>\n      <td>41</td>\n      <td>NaN</td>\n    </tr>\n    <tr>\n      <th>mean</th>\n      <td>NaN</td>\n      <td>0.391080</td>\n    </tr>\n    <tr>\n      <th>std</th>\n      <td>NaN</td>\n      <td>0.488005</td>\n    </tr>\n    <tr>\n      <th>min</th>\n      <td>NaN</td>\n      <td>0.000000</td>\n    </tr>\n    <tr>\n      <th>25%</th>\n      <td>NaN</td>\n      <td>0.000000</td>\n    </tr>\n    <tr>\n      <th>50%</th>\n      <td>NaN</td>\n      <td>0.000000</td>\n    </tr>\n    <tr>\n      <th>75%</th>\n      <td>NaN</td>\n      <td>1.000000</td>\n    </tr>\n    <tr>\n      <th>max</th>\n      <td>NaN</td>\n      <td>1.000000</td>\n    </tr>\n  </tbody>\n</table>\n</div>"
     },
     "execution_count": 4,
     "metadata": {},
     "output_type": "execute_result"
    }
   ],
   "source": [
    "news.describe(include='all')"
   ],
   "metadata": {
    "collapsed": false,
    "ExecuteTime": {
     "end_time": "2023-04-30T18:57:43.796608300Z",
     "start_time": "2023-04-30T18:57:43.669948200Z"
    }
   }
  },
  {
   "cell_type": "markdown",
   "source": [
    "# Defining the tokenizer function"
   ],
   "metadata": {}
  },
  {
   "cell_type": "code",
   "source": [
    "import tensorflow as tf\n",
    "import transformers\n",
    "import tqdm\n",
    "from keras.preprocessing import sequence\n",
    "\n",
    "#creating a function\n",
    "def func_tokenizer(tokenizer_name, docs):\n",
    "    features = []\n",
    "    for doc in tqdm.tqdm(docs, desc = 'converting documents to features'):\n",
    "        tokens = tokenizer_name.tokenize(doc)\n",
    "        ids = tokenizer_name.convert_tokens_to_ids(tokens)\n",
    "        features.append(ids)\n",
    "    return features\n",
    "print(\"The function is created successfully\")"
   ],
   "metadata": {
    "execution": {
     "iopub.status.busy": "2021-06-27T09:54:37.716989Z",
     "iopub.execute_input": "2021-06-27T09:54:37.717424Z",
     "iopub.status.idle": "2021-06-27T09:54:39.793305Z",
     "shell.execute_reply.started": "2021-06-27T09:54:37.717377Z",
     "shell.execute_reply": "2021-06-27T09:54:39.791824Z"
    },
    "trusted": true
   },
   "execution_count": 9,
   "outputs": [
    {
     "name": "stdout",
     "output_type": "stream",
     "text": [
      "The function is created successfully\n",
      "The function is created successfully\n"
     ]
    }
   ]
  },
  {
   "cell_type": "code",
   "source": [
    "from sklearn.model_selection import train_test_split\n",
    "X, y = news['text'], news[target]\n",
    "X_train, X_test, y_train, y_test = train_test_split(X, y, test_size=0.2, random_state=42)"
   ],
   "metadata": {
    "execution": {
     "iopub.status.busy": "2021-06-27T09:54:39.794992Z",
     "iopub.execute_input": "2021-06-27T09:54:39.795454Z",
     "iopub.status.idle": "2021-06-27T09:54:40.057778Z",
     "shell.execute_reply.started": "2021-06-27T09:54:39.795405Z",
     "shell.execute_reply": "2021-06-27T09:54:40.056981Z"
    },
    "trusted": true,
    "ExecuteTime": {
     "end_time": "2023-04-30T19:13:41.725815400Z",
     "start_time": "2023-04-30T19:13:40.790318900Z"
    }
   },
   "execution_count": 10,
   "outputs": []
  },
  {
   "cell_type": "markdown",
   "source": [
    "# All hail Roberta from hugging face library of transformers 🤗"
   ],
   "metadata": {}
  },
  {
   "cell_type": "code",
   "source": [
    "#Initialize bert tokenizer\n",
    "roberta_tokenizer = transformers.RobertaTokenizer.from_pretrained('roberta-base-openai-detector')"
   ],
   "metadata": {
    "execution": {
     "iopub.status.busy": "2021-06-27T09:54:40.059076Z",
     "iopub.execute_input": "2021-06-27T09:54:40.059680Z",
     "iopub.status.idle": "2021-06-27T09:54:42.912097Z",
     "shell.execute_reply.started": "2021-06-27T09:54:40.059637Z",
     "shell.execute_reply": "2021-06-27T09:54:42.911018Z"
    },
    "trusted": true,
    "ExecuteTime": {
     "start_time": "2023-04-12T20:18:35.883069Z",
     "end_time": "2023-04-12T20:18:38.081840Z"
    }
   },
   "execution_count": 9,
   "outputs": []
  },
  {
   "cell_type": "code",
   "execution_count": 10,
   "outputs": [
    {
     "data": {
      "text/plain": "527      Yeah! id do her like my nigga did them white c...\n11742    dood  seriously  why was 70's cinema so fuckin...\n11354    Damn  I'm sitting here checking the score to m...\n14444                            well i know who this is..\n19668                          I want my mom to _________.\n                               ...                        \n19297                                                7 1/2\n12777    that sucks dude.  so it was just your hard drive?\n5279     Ok is it gay day today? or are those some cute...\n11624    I always forget about Yelp  but it's pretty da...\n9434                                           Damn right!\nName: text, Length: 223, dtype: object"
     },
     "execution_count": 10,
     "metadata": {},
     "output_type": "execute_result"
    }
   ],
   "source": [
    "X_train[5777:6000]"
   ],
   "metadata": {
    "collapsed": false,
    "ExecuteTime": {
     "start_time": "2023-04-12T20:18:40.475509Z",
     "end_time": "2023-04-12T20:18:40.484610Z"
    }
   }
  },
  {
   "cell_type": "code",
   "source": [
    "roberta_train_features = func_tokenizer(roberta_tokenizer, X_train)\n",
    "roberta_test_features = func_tokenizer(roberta_tokenizer, X_test)"
   ],
   "metadata": {
    "execution": {
     "iopub.status.busy": "2021-06-27T09:54:42.913736Z",
     "iopub.execute_input": "2021-06-27T09:54:42.914089Z",
     "iopub.status.idle": "2021-06-27T09:57:09.355580Z",
     "shell.execute_reply.started": "2021-06-27T09:54:42.914056Z",
     "shell.execute_reply": "2021-06-27T09:57:09.353869Z"
    },
    "trusted": true,
    "ExecuteTime": {
     "start_time": "2023-04-12T20:18:42.534711Z",
     "end_time": "2023-04-12T20:18:46.134408Z"
    }
   },
   "execution_count": 11,
   "outputs": [
    {
     "name": "stderr",
     "output_type": "stream",
     "text": [
      "converting documents to features: 100%|██████████| 16000/16000 [00:02<00:00, 5552.60it/s]\n",
      "converting documents to features: 100%|██████████| 4001/4001 [00:00<00:00, 5775.24it/s]\n"
     ]
    }
   ]
  },
  {
   "cell_type": "code",
   "source": [
    "roberta_trg = sequence.pad_sequences(roberta_train_features, maxlen = 500)\n",
    "roberta_test = sequence.pad_sequences(roberta_test_features, maxlen = 500)\n"
   ],
   "metadata": {
    "execution": {
     "iopub.status.busy": "2021-06-27T09:57:09.358998Z",
     "iopub.execute_input": "2021-06-27T09:57:09.359345Z",
     "iopub.status.idle": "2021-06-27T09:57:12.773185Z",
     "shell.execute_reply.started": "2021-06-27T09:57:09.359311Z",
     "shell.execute_reply": "2021-06-27T09:57:12.772050Z"
    },
    "trusted": true,
    "ExecuteTime": {
     "start_time": "2023-04-12T20:19:00.697200Z",
     "end_time": "2023-04-12T20:19:00.784366Z"
    }
   },
   "execution_count": 12,
   "outputs": []
  },
  {
   "cell_type": "code",
   "execution_count": 13,
   "outputs": [
    {
     "data": {
      "text/plain": "array([[    0,     0,     0, ...,  2721,  5582,     4],\n       [    0,     0,     0, ...,   127,  3795,  1592],\n       [    0,     0,     0, ...,   328,  4832, 38203],\n       ...,\n       [    0,     0,     0, ..., 26363,  2099,     4],\n       [    0,     0,     0, ...,   995, 20042,   569],\n       [    0,     0,     0, ...,   581,   847,  2185]], dtype=int32)"
     },
     "execution_count": 13,
     "metadata": {},
     "output_type": "execute_result"
    }
   ],
   "source": [],
   "metadata": {
    "collapsed": false,
    "ExecuteTime": {
     "start_time": "2023-04-12T20:19:12.795784Z",
     "end_time": "2023-04-12T20:19:12.803586Z"
    }
   }
  },
  {
   "cell_type": "markdown",
   "source": [
    "# XGBoost"
   ],
   "metadata": {}
  },
  {
   "cell_type": "code",
   "source": [
    "import warnings\n",
    "warnings.filterwarnings(action='ignore', category=UserWarning)\n",
    "from xgboost import XGBClassifier\n"
   ],
   "metadata": {
    "execution": {
     "iopub.status.busy": "2021-06-27T09:57:12.775193Z",
     "iopub.execute_input": "2021-06-27T09:57:12.775631Z",
     "iopub.status.idle": "2021-06-27T10:08:07.565283Z",
     "shell.execute_reply.started": "2021-06-27T09:57:12.775585Z",
     "shell.execute_reply": "2021-06-27T10:08:07.564197Z"
    },
    "trusted": true
   },
   "execution_count": 80,
   "outputs": []
  },
  {
   "cell_type": "code",
   "execution_count": 81,
   "outputs": [],
   "source": [
    "xgb = XGBClassifier(n_estimators = 1000, learning_rate = 0.15, max_depth = 9,\n",
    "                    eval_metric = 'auc', use_label_encoder=False,objective = 'binary:logistic')\n"
   ],
   "metadata": {
    "collapsed": false
   }
  },
  {
   "cell_type": "code",
   "execution_count": 82,
   "outputs": [
    {
     "data": {
      "text/plain": "XGBClassifier(base_score=None, booster=None, callbacks=None,\n              colsample_bylevel=None, colsample_bynode=None,\n              colsample_bytree=None, early_stopping_rounds=None,\n              enable_categorical=False, eval_metric='auc', feature_types=None,\n              gamma=None, gpu_id=None, grow_policy=None, importance_type=None,\n              interaction_constraints=None, learning_rate=0.15, max_bin=None,\n              max_cat_threshold=None, max_cat_to_onehot=None,\n              max_delta_step=None, max_depth=9, max_leaves=None,\n              min_child_weight=None, missing=nan, monotone_constraints=None,\n              n_estimators=1000, n_jobs=None, num_parallel_tree=None,\n              predictor=None, random_state=None, ...)"
     },
     "execution_count": 82,
     "metadata": {},
     "output_type": "execute_result"
    }
   ],
   "source": [
    "xgb.fit(roberta_trg, y_train)"
   ],
   "metadata": {
    "collapsed": false
   }
  },
  {
   "cell_type": "code",
   "source": [
    "from sklearn.metrics import accuracy_score, roc_auc_score\n",
    "\n",
    "xgb_pred = xgb.predict(roberta_test)\n",
    "xgb_score = accuracy_score(y_test, xgb_pred)\n",
    "xgb_roc = roc_auc_score(y_test, xgb_pred)\n",
    "print(\"The accuracy of XGBOOST is: %0.2f\" %xgb_score)\n",
    "print(\"The roc_auc score of XGBOOST is: %0.2f\" %xgb_roc)"
   ],
   "metadata": {
    "execution": {
     "iopub.status.busy": "2021-06-27T10:08:07.566788Z",
     "iopub.execute_input": "2021-06-27T10:08:07.567161Z",
     "iopub.status.idle": "2021-06-27T10:08:07.721239Z",
     "shell.execute_reply.started": "2021-06-27T10:08:07.567127Z",
     "shell.execute_reply": "2021-06-27T10:08:07.720455Z"
    },
    "trusted": true
   },
   "execution_count": 83,
   "outputs": [
    {
     "name": "stdout",
     "output_type": "stream",
     "text": [
      "The accuracy of XGBOOST is: 0.95\n",
      "The roc_auc score of XGBOOST is: 0.95\n"
     ]
    }
   ]
  },
  {
   "cell_type": "code",
   "source": [
    "from sklearn.metrics import classification_report\n",
    "cr = classification_report(y_test, xgb_pred, output_dict=True)\n",
    "print(cr)\n",
    "report_1 = pd.DataFrame(cr).transpose().head()\n",
    "report_1.to_csv(f'report/{dataset}_report_xgb.csv')"
   ],
   "metadata": {
    "execution": {
     "iopub.status.busy": "2021-06-27T10:08:07.722475Z",
     "iopub.execute_input": "2021-06-27T10:08:07.723174Z",
     "iopub.status.idle": "2021-06-27T10:08:07.747723Z",
     "shell.execute_reply.started": "2021-06-27T10:08:07.723136Z",
     "shell.execute_reply": "2021-06-27T10:08:07.746897Z"
    },
    "trusted": true
   },
   "execution_count": 84,
   "outputs": [
    {
     "name": "stdout",
     "output_type": "stream",
     "text": [
      "{'0': {'precision': 0.9661876584953508, 'recall': 0.943069306930693, 'f1-score': 0.9544885177453026, 'support': 2424}, '1': {'precision': 0.9155963302752294, 'recall': 0.9492707672796449, 'f1-score': 0.9321295143212952, 'support': 1577}, 'accuracy': 0.9455136215946014, 'macro avg': {'precision': 0.94089199438529, 'recall': 0.9461700371051689, 'f1-score': 0.9433090160332989, 'support': 4001}, 'weighted avg': {'precision': 0.9462470125060652, 'recall': 0.9455136215946014, 'f1-score': 0.9456756838538606, 'support': 4001}}\n"
     ]
    }
   ]
  },
  {
   "cell_type": "code",
   "execution_count": 85,
   "outputs": [],
   "source": [
    "xgb.save_model(f'model/{dataset}_xgb.bin')"
   ],
   "metadata": {
    "collapsed": false
   }
  },
  {
   "cell_type": "markdown",
   "source": [
    "# CatBoost"
   ],
   "metadata": {}
  },
  {
   "cell_type": "code",
   "source": [
    "from catboost import CatBoostClassifier\n",
    "cb = CatBoostClassifier(eval_metric = 'Accuracy', iterations = 2000, learning_rate = 0.2)"
   ],
   "metadata": {
    "execution": {
     "iopub.status.busy": "2021-06-27T10:08:07.749045Z",
     "iopub.execute_input": "2021-06-27T10:08:07.749359Z",
     "iopub.status.idle": "2021-06-27T10:08:07.771532Z",
     "shell.execute_reply.started": "2021-06-27T10:08:07.749326Z",
     "shell.execute_reply": "2021-06-27T10:08:07.770247Z"
    },
    "trusted": true
   },
   "execution_count": 86,
   "outputs": []
  },
  {
   "cell_type": "code",
   "source": [
    "cb.fit(roberta_trg, y_train, verbose = 0)\n",
    "cb_pred = cb.predict(roberta_test)\n",
    "cb_score = accuracy_score(y_test, cb_pred)\n",
    "cb_roc = roc_auc_score(y_test, cb_pred)\n",
    "print(\"The accuracy of CatBoost is: %0.2f\" %cb_score)\n",
    "print(\"The roc_auc score of CatBoost is: %0.2f\" %cb_roc)"
   ],
   "metadata": {
    "execution": {
     "iopub.status.busy": "2021-06-27T10:08:07.773267Z",
     "iopub.execute_input": "2021-06-27T10:08:07.773614Z",
     "iopub.status.idle": "2021-06-27T10:11:39.982394Z",
     "shell.execute_reply.started": "2021-06-27T10:08:07.773584Z",
     "shell.execute_reply": "2021-06-27T10:11:39.981180Z"
    },
    "trusted": true
   },
   "execution_count": 87,
   "outputs": [
    {
     "name": "stdout",
     "output_type": "stream",
     "text": [
      "The accuracy of CatBoost is: 0.93\n",
      "The roc_auc score of CatBoost is: 0.94\n"
     ]
    }
   ]
  },
  {
   "cell_type": "code",
   "source": [
    "from sklearn.metrics import classification_report\n",
    "cr2 = classification_report(y_test, cb_pred, output_dict=True)\n",
    "print(cr2)\n",
    "report_2 = pd.DataFrame(cr2).transpose().head()\n",
    "report_2.to_csv(f'report/{dataset}_report_cb.csv')"
   ],
   "metadata": {
    "execution": {
     "iopub.status.busy": "2021-06-27T10:11:39.983944Z",
     "iopub.execute_input": "2021-06-27T10:11:39.984393Z",
     "iopub.status.idle": "2021-06-27T10:11:40.014877Z",
     "shell.execute_reply.started": "2021-06-27T10:11:39.984337Z",
     "shell.execute_reply": "2021-06-27T10:11:40.013472Z"
    },
    "trusted": true
   },
   "execution_count": 88,
   "outputs": [
    {
     "name": "stdout",
     "output_type": "stream",
     "text": [
      "{'0': {'precision': 0.9695387293298521, 'recall': 0.9191419141914191, 'f1-score': 0.9436679373146971, 'support': 2424}, '1': {'precision': 0.8849089841456254, 'recall': 0.9556119213696893, 'f1-score': 0.9189024390243902, 'support': 1577}, 'accuracy': 0.9335166208447888, 'macro avg': {'precision': 0.9272238567377387, 'recall': 0.9373769177805542, 'f1-score': 0.9312851881695436, 'support': 4001}, 'weighted avg': {'precision': 0.9361817915254218, 'recall': 0.9335166208447888, 'f1-score': 0.933906579953084, 'support': 4001}}\n"
     ]
    }
   ]
  },
  {
   "cell_type": "code",
   "execution_count": 89,
   "outputs": [],
   "source": [
    "cb.save_model(f'model/{dataset}_cb.bin')"
   ],
   "metadata": {
    "collapsed": false
   }
  },
  {
   "cell_type": "code",
   "execution_count": 89,
   "outputs": [],
   "source": [],
   "metadata": {
    "collapsed": false
   }
  },
  {
   "cell_type": "code",
   "execution_count": 89,
   "outputs": [],
   "source": [],
   "metadata": {
    "collapsed": false
   }
  }
 ]
}
