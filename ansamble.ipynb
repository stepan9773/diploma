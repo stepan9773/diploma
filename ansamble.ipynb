{
 "cells": [
  {
   "cell_type": "code",
   "execution_count": 1,
   "metadata": {
    "collapsed": true,
    "ExecuteTime": {
     "end_time": "2023-05-03T15:49:28.162338500Z",
     "start_time": "2023-05-03T15:49:18.517140800Z"
    }
   },
   "outputs": [
    {
     "ename": "TypeError",
     "evalue": "Could not convert 01accuracymacro avgweighted avg to numeric",
     "output_type": "error",
     "traceback": [
      "\u001B[1;31m---------------------------------------------------------------------------\u001B[0m",
      "\u001B[1;31mNotImplementedError\u001B[0m                       Traceback (most recent call last)",
      "File \u001B[1;32m~\\projects\\diplo\\venv\\lib\\site-packages\\pandas\\core\\groupby\\groupby.py:1490\u001B[0m, in \u001B[0;36mGroupBy._cython_agg_general.<locals>.array_func\u001B[1;34m(values)\u001B[0m\n\u001B[0;32m   1489\u001B[0m \u001B[38;5;28;01mtry\u001B[39;00m:\n\u001B[1;32m-> 1490\u001B[0m     result \u001B[38;5;241m=\u001B[39m \u001B[38;5;28mself\u001B[39m\u001B[38;5;241m.\u001B[39mgrouper\u001B[38;5;241m.\u001B[39m_cython_operation(\n\u001B[0;32m   1491\u001B[0m         \u001B[38;5;124m\"\u001B[39m\u001B[38;5;124maggregate\u001B[39m\u001B[38;5;124m\"\u001B[39m,\n\u001B[0;32m   1492\u001B[0m         values,\n\u001B[0;32m   1493\u001B[0m         how,\n\u001B[0;32m   1494\u001B[0m         axis\u001B[38;5;241m=\u001B[39mdata\u001B[38;5;241m.\u001B[39mndim \u001B[38;5;241m-\u001B[39m \u001B[38;5;241m1\u001B[39m,\n\u001B[0;32m   1495\u001B[0m         min_count\u001B[38;5;241m=\u001B[39mmin_count,\n\u001B[0;32m   1496\u001B[0m         \u001B[38;5;241m*\u001B[39m\u001B[38;5;241m*\u001B[39mkwargs,\n\u001B[0;32m   1497\u001B[0m     )\n\u001B[0;32m   1498\u001B[0m \u001B[38;5;28;01mexcept\u001B[39;00m \u001B[38;5;167;01mNotImplementedError\u001B[39;00m:\n\u001B[0;32m   1499\u001B[0m     \u001B[38;5;66;03m# generally if we have numeric_only=False\u001B[39;00m\n\u001B[0;32m   1500\u001B[0m     \u001B[38;5;66;03m# and non-applicable functions\u001B[39;00m\n\u001B[0;32m   1501\u001B[0m     \u001B[38;5;66;03m# try to python agg\u001B[39;00m\n\u001B[0;32m   1502\u001B[0m     \u001B[38;5;66;03m# TODO: shouldn't min_count matter?\u001B[39;00m\n",
      "File \u001B[1;32m~\\projects\\diplo\\venv\\lib\\site-packages\\pandas\\core\\groupby\\ops.py:959\u001B[0m, in \u001B[0;36mBaseGrouper._cython_operation\u001B[1;34m(self, kind, values, how, axis, min_count, **kwargs)\u001B[0m\n\u001B[0;32m    958\u001B[0m ngroups \u001B[38;5;241m=\u001B[39m \u001B[38;5;28mself\u001B[39m\u001B[38;5;241m.\u001B[39mngroups\n\u001B[1;32m--> 959\u001B[0m \u001B[38;5;28;01mreturn\u001B[39;00m cy_op\u001B[38;5;241m.\u001B[39mcython_operation(\n\u001B[0;32m    960\u001B[0m     values\u001B[38;5;241m=\u001B[39mvalues,\n\u001B[0;32m    961\u001B[0m     axis\u001B[38;5;241m=\u001B[39maxis,\n\u001B[0;32m    962\u001B[0m     min_count\u001B[38;5;241m=\u001B[39mmin_count,\n\u001B[0;32m    963\u001B[0m     comp_ids\u001B[38;5;241m=\u001B[39mids,\n\u001B[0;32m    964\u001B[0m     ngroups\u001B[38;5;241m=\u001B[39mngroups,\n\u001B[0;32m    965\u001B[0m     \u001B[38;5;241m*\u001B[39m\u001B[38;5;241m*\u001B[39mkwargs,\n\u001B[0;32m    966\u001B[0m )\n",
      "File \u001B[1;32m~\\projects\\diplo\\venv\\lib\\site-packages\\pandas\\core\\groupby\\ops.py:657\u001B[0m, in \u001B[0;36mWrappedCythonOp.cython_operation\u001B[1;34m(self, values, axis, min_count, comp_ids, ngroups, **kwargs)\u001B[0m\n\u001B[0;32m    649\u001B[0m     \u001B[38;5;28;01mreturn\u001B[39;00m \u001B[38;5;28mself\u001B[39m\u001B[38;5;241m.\u001B[39m_ea_wrap_cython_operation(\n\u001B[0;32m    650\u001B[0m         values,\n\u001B[0;32m    651\u001B[0m         min_count\u001B[38;5;241m=\u001B[39mmin_count,\n\u001B[1;32m   (...)\u001B[0m\n\u001B[0;32m    654\u001B[0m         \u001B[38;5;241m*\u001B[39m\u001B[38;5;241m*\u001B[39mkwargs,\n\u001B[0;32m    655\u001B[0m     )\n\u001B[1;32m--> 657\u001B[0m \u001B[38;5;28;01mreturn\u001B[39;00m \u001B[38;5;28mself\u001B[39m\u001B[38;5;241m.\u001B[39m_cython_op_ndim_compat(\n\u001B[0;32m    658\u001B[0m     values,\n\u001B[0;32m    659\u001B[0m     min_count\u001B[38;5;241m=\u001B[39mmin_count,\n\u001B[0;32m    660\u001B[0m     ngroups\u001B[38;5;241m=\u001B[39mngroups,\n\u001B[0;32m    661\u001B[0m     comp_ids\u001B[38;5;241m=\u001B[39mcomp_ids,\n\u001B[0;32m    662\u001B[0m     mask\u001B[38;5;241m=\u001B[39m\u001B[38;5;28;01mNone\u001B[39;00m,\n\u001B[0;32m    663\u001B[0m     \u001B[38;5;241m*\u001B[39m\u001B[38;5;241m*\u001B[39mkwargs,\n\u001B[0;32m    664\u001B[0m )\n",
      "File \u001B[1;32m~\\projects\\diplo\\venv\\lib\\site-packages\\pandas\\core\\groupby\\ops.py:497\u001B[0m, in \u001B[0;36mWrappedCythonOp._cython_op_ndim_compat\u001B[1;34m(self, values, min_count, ngroups, comp_ids, mask, result_mask, **kwargs)\u001B[0m\n\u001B[0;32m    495\u001B[0m     \u001B[38;5;28;01mreturn\u001B[39;00m res\u001B[38;5;241m.\u001B[39mT\n\u001B[1;32m--> 497\u001B[0m \u001B[38;5;28;01mreturn\u001B[39;00m \u001B[38;5;28mself\u001B[39m\u001B[38;5;241m.\u001B[39m_call_cython_op(\n\u001B[0;32m    498\u001B[0m     values,\n\u001B[0;32m    499\u001B[0m     min_count\u001B[38;5;241m=\u001B[39mmin_count,\n\u001B[0;32m    500\u001B[0m     ngroups\u001B[38;5;241m=\u001B[39mngroups,\n\u001B[0;32m    501\u001B[0m     comp_ids\u001B[38;5;241m=\u001B[39mcomp_ids,\n\u001B[0;32m    502\u001B[0m     mask\u001B[38;5;241m=\u001B[39mmask,\n\u001B[0;32m    503\u001B[0m     result_mask\u001B[38;5;241m=\u001B[39mresult_mask,\n\u001B[0;32m    504\u001B[0m     \u001B[38;5;241m*\u001B[39m\u001B[38;5;241m*\u001B[39mkwargs,\n\u001B[0;32m    505\u001B[0m )\n",
      "File \u001B[1;32m~\\projects\\diplo\\venv\\lib\\site-packages\\pandas\\core\\groupby\\ops.py:541\u001B[0m, in \u001B[0;36mWrappedCythonOp._call_cython_op\u001B[1;34m(self, values, min_count, ngroups, comp_ids, mask, result_mask, **kwargs)\u001B[0m\n\u001B[0;32m    540\u001B[0m out_shape \u001B[38;5;241m=\u001B[39m \u001B[38;5;28mself\u001B[39m\u001B[38;5;241m.\u001B[39m_get_output_shape(ngroups, values)\n\u001B[1;32m--> 541\u001B[0m func \u001B[38;5;241m=\u001B[39m \u001B[38;5;28;43mself\u001B[39;49m\u001B[38;5;241;43m.\u001B[39;49m\u001B[43m_get_cython_function\u001B[49m\u001B[43m(\u001B[49m\u001B[38;5;28;43mself\u001B[39;49m\u001B[38;5;241;43m.\u001B[39;49m\u001B[43mkind\u001B[49m\u001B[43m,\u001B[49m\u001B[43m \u001B[49m\u001B[38;5;28;43mself\u001B[39;49m\u001B[38;5;241;43m.\u001B[39;49m\u001B[43mhow\u001B[49m\u001B[43m,\u001B[49m\u001B[43m \u001B[49m\u001B[43mvalues\u001B[49m\u001B[38;5;241;43m.\u001B[39;49m\u001B[43mdtype\u001B[49m\u001B[43m,\u001B[49m\u001B[43m \u001B[49m\u001B[43mis_numeric\u001B[49m\u001B[43m)\u001B[49m\n\u001B[0;32m    542\u001B[0m values \u001B[38;5;241m=\u001B[39m \u001B[38;5;28mself\u001B[39m\u001B[38;5;241m.\u001B[39m_get_cython_vals(values)\n",
      "File \u001B[1;32m~\\projects\\diplo\\venv\\lib\\site-packages\\pandas\\core\\groupby\\ops.py:173\u001B[0m, in \u001B[0;36mWrappedCythonOp._get_cython_function\u001B[1;34m(cls, kind, how, dtype, is_numeric)\u001B[0m\n\u001B[0;32m    171\u001B[0m \u001B[38;5;28;01mif\u001B[39;00m \u001B[38;5;124m\"\u001B[39m\u001B[38;5;124mobject\u001B[39m\u001B[38;5;124m\"\u001B[39m \u001B[38;5;129;01mnot\u001B[39;00m \u001B[38;5;129;01min\u001B[39;00m f\u001B[38;5;241m.\u001B[39m__signatures__:\n\u001B[0;32m    172\u001B[0m     \u001B[38;5;66;03m# raise NotImplementedError here rather than TypeError later\u001B[39;00m\n\u001B[1;32m--> 173\u001B[0m     \u001B[38;5;28;01mraise\u001B[39;00m \u001B[38;5;167;01mNotImplementedError\u001B[39;00m(\n\u001B[0;32m    174\u001B[0m         \u001B[38;5;124mf\u001B[39m\u001B[38;5;124m\"\u001B[39m\u001B[38;5;124mfunction is not implemented for this dtype: \u001B[39m\u001B[38;5;124m\"\u001B[39m\n\u001B[0;32m    175\u001B[0m         \u001B[38;5;124mf\u001B[39m\u001B[38;5;124m\"\u001B[39m\u001B[38;5;124m[how->\u001B[39m\u001B[38;5;132;01m{\u001B[39;00mhow\u001B[38;5;132;01m}\u001B[39;00m\u001B[38;5;124m,dtype->\u001B[39m\u001B[38;5;132;01m{\u001B[39;00mdtype_str\u001B[38;5;132;01m}\u001B[39;00m\u001B[38;5;124m]\u001B[39m\u001B[38;5;124m\"\u001B[39m\n\u001B[0;32m    176\u001B[0m     )\n\u001B[0;32m    177\u001B[0m \u001B[38;5;28;01mreturn\u001B[39;00m f\n",
      "\u001B[1;31mNotImplementedError\u001B[0m: function is not implemented for this dtype: [how->mean,dtype->object]",
      "\nDuring handling of the above exception, another exception occurred:\n",
      "\u001B[1;31mValueError\u001B[0m                                Traceback (most recent call last)",
      "File \u001B[1;32m~\\projects\\diplo\\venv\\lib\\site-packages\\pandas\\core\\nanops.py:1692\u001B[0m, in \u001B[0;36m_ensure_numeric\u001B[1;34m(x)\u001B[0m\n\u001B[0;32m   1691\u001B[0m \u001B[38;5;28;01mtry\u001B[39;00m:\n\u001B[1;32m-> 1692\u001B[0m     x \u001B[38;5;241m=\u001B[39m \u001B[38;5;28;43mfloat\u001B[39;49m\u001B[43m(\u001B[49m\u001B[43mx\u001B[49m\u001B[43m)\u001B[49m\n\u001B[0;32m   1693\u001B[0m \u001B[38;5;28;01mexcept\u001B[39;00m (\u001B[38;5;167;01mTypeError\u001B[39;00m, \u001B[38;5;167;01mValueError\u001B[39;00m):\n\u001B[0;32m   1694\u001B[0m     \u001B[38;5;66;03m# e.g. \"1+1j\" or \"foo\"\u001B[39;00m\n",
      "\u001B[1;31mValueError\u001B[0m: could not convert string to float: '01accuracymacro avgweighted avg'",
      "\nDuring handling of the above exception, another exception occurred:\n",
      "\u001B[1;31mValueError\u001B[0m                                Traceback (most recent call last)",
      "File \u001B[1;32m~\\projects\\diplo\\venv\\lib\\site-packages\\pandas\\core\\nanops.py:1696\u001B[0m, in \u001B[0;36m_ensure_numeric\u001B[1;34m(x)\u001B[0m\n\u001B[0;32m   1695\u001B[0m \u001B[38;5;28;01mtry\u001B[39;00m:\n\u001B[1;32m-> 1696\u001B[0m     x \u001B[38;5;241m=\u001B[39m \u001B[38;5;28;43mcomplex\u001B[39;49m\u001B[43m(\u001B[49m\u001B[43mx\u001B[49m\u001B[43m)\u001B[49m\n\u001B[0;32m   1697\u001B[0m \u001B[38;5;28;01mexcept\u001B[39;00m \u001B[38;5;167;01mValueError\u001B[39;00m \u001B[38;5;28;01mas\u001B[39;00m err:\n\u001B[0;32m   1698\u001B[0m     \u001B[38;5;66;03m# e.g. \"foo\"\u001B[39;00m\n",
      "\u001B[1;31mValueError\u001B[0m: complex() arg is a malformed string",
      "\nThe above exception was the direct cause of the following exception:\n",
      "\u001B[1;31mTypeError\u001B[0m                                 Traceback (most recent call last)",
      "Cell \u001B[1;32mIn[1], line 24\u001B[0m\n\u001B[0;32m     21\u001B[0m concat_df\u001B[38;5;241m.\u001B[39mstyle\u001B[38;5;241m.\u001B[39mbackground_gradient(cmap\u001B[38;5;241m=\u001B[39m\u001B[38;5;124m'\u001B[39m\u001B[38;5;124mcoolwarm\u001B[39m\u001B[38;5;124m'\u001B[39m)\n\u001B[0;32m     23\u001B[0m concat_df\u001B[38;5;241m.\u001B[39mhead(\u001B[38;5;241m100\u001B[39m)\n\u001B[1;32m---> 24\u001B[0m pivot_df \u001B[38;5;241m=\u001B[39m \u001B[43mpd\u001B[49m\u001B[38;5;241;43m.\u001B[39;49m\u001B[43mpivot_table\u001B[49m\u001B[43m(\u001B[49m\u001B[43mconcat_df\u001B[49m\u001B[43m,\u001B[49m\u001B[43m \u001B[49m\u001B[43mindex\u001B[49m\u001B[38;5;241;43m=\u001B[39;49m\u001B[38;5;124;43m'\u001B[39;49m\u001B[38;5;124;43mname\u001B[39;49m\u001B[38;5;124;43m'\u001B[39;49m\u001B[43m)\u001B[49m\n\u001B[0;32m     25\u001B[0m pivot_df\u001B[38;5;241m.\u001B[39mto_csv(\u001B[38;5;124m\"\u001B[39m\u001B[38;5;124mPIVOT.csv\u001B[39m\u001B[38;5;124m\"\u001B[39m)\n\u001B[0;32m     26\u001B[0m concat_df\u001B[38;5;241m.\u001B[39mto_csv(\u001B[38;5;124m\"\u001B[39m\u001B[38;5;124mREPORT.csv\u001B[39m\u001B[38;5;124m\"\u001B[39m)\n",
      "File \u001B[1;32m~\\projects\\diplo\\venv\\lib\\site-packages\\pandas\\core\\reshape\\pivot.py:97\u001B[0m, in \u001B[0;36mpivot_table\u001B[1;34m(data, values, index, columns, aggfunc, fill_value, margins, dropna, margins_name, observed, sort)\u001B[0m\n\u001B[0;32m     94\u001B[0m     table \u001B[38;5;241m=\u001B[39m concat(pieces, keys\u001B[38;5;241m=\u001B[39mkeys, axis\u001B[38;5;241m=\u001B[39m\u001B[38;5;241m1\u001B[39m)\n\u001B[0;32m     95\u001B[0m     \u001B[38;5;28;01mreturn\u001B[39;00m table\u001B[38;5;241m.\u001B[39m__finalize__(data, method\u001B[38;5;241m=\u001B[39m\u001B[38;5;124m\"\u001B[39m\u001B[38;5;124mpivot_table\u001B[39m\u001B[38;5;124m\"\u001B[39m)\n\u001B[1;32m---> 97\u001B[0m table \u001B[38;5;241m=\u001B[39m \u001B[43m__internal_pivot_table\u001B[49m\u001B[43m(\u001B[49m\n\u001B[0;32m     98\u001B[0m \u001B[43m    \u001B[49m\u001B[43mdata\u001B[49m\u001B[43m,\u001B[49m\n\u001B[0;32m     99\u001B[0m \u001B[43m    \u001B[49m\u001B[43mvalues\u001B[49m\u001B[43m,\u001B[49m\n\u001B[0;32m    100\u001B[0m \u001B[43m    \u001B[49m\u001B[43mindex\u001B[49m\u001B[43m,\u001B[49m\n\u001B[0;32m    101\u001B[0m \u001B[43m    \u001B[49m\u001B[43mcolumns\u001B[49m\u001B[43m,\u001B[49m\n\u001B[0;32m    102\u001B[0m \u001B[43m    \u001B[49m\u001B[43maggfunc\u001B[49m\u001B[43m,\u001B[49m\n\u001B[0;32m    103\u001B[0m \u001B[43m    \u001B[49m\u001B[43mfill_value\u001B[49m\u001B[43m,\u001B[49m\n\u001B[0;32m    104\u001B[0m \u001B[43m    \u001B[49m\u001B[43mmargins\u001B[49m\u001B[43m,\u001B[49m\n\u001B[0;32m    105\u001B[0m \u001B[43m    \u001B[49m\u001B[43mdropna\u001B[49m\u001B[43m,\u001B[49m\n\u001B[0;32m    106\u001B[0m \u001B[43m    \u001B[49m\u001B[43mmargins_name\u001B[49m\u001B[43m,\u001B[49m\n\u001B[0;32m    107\u001B[0m \u001B[43m    \u001B[49m\u001B[43mobserved\u001B[49m\u001B[43m,\u001B[49m\n\u001B[0;32m    108\u001B[0m \u001B[43m    \u001B[49m\u001B[43msort\u001B[49m\u001B[43m,\u001B[49m\n\u001B[0;32m    109\u001B[0m \u001B[43m\u001B[49m\u001B[43m)\u001B[49m\n\u001B[0;32m    110\u001B[0m \u001B[38;5;28;01mreturn\u001B[39;00m table\u001B[38;5;241m.\u001B[39m__finalize__(data, method\u001B[38;5;241m=\u001B[39m\u001B[38;5;124m\"\u001B[39m\u001B[38;5;124mpivot_table\u001B[39m\u001B[38;5;124m\"\u001B[39m)\n",
      "File \u001B[1;32m~\\projects\\diplo\\venv\\lib\\site-packages\\pandas\\core\\reshape\\pivot.py:167\u001B[0m, in \u001B[0;36m__internal_pivot_table\u001B[1;34m(data, values, index, columns, aggfunc, fill_value, margins, dropna, margins_name, observed, sort)\u001B[0m\n\u001B[0;32m    164\u001B[0m     values \u001B[38;5;241m=\u001B[39m \u001B[38;5;28mlist\u001B[39m(values)\n\u001B[0;32m    166\u001B[0m grouped \u001B[38;5;241m=\u001B[39m data\u001B[38;5;241m.\u001B[39mgroupby(keys, observed\u001B[38;5;241m=\u001B[39mobserved, sort\u001B[38;5;241m=\u001B[39msort)\n\u001B[1;32m--> 167\u001B[0m agged \u001B[38;5;241m=\u001B[39m \u001B[43mgrouped\u001B[49m\u001B[38;5;241;43m.\u001B[39;49m\u001B[43magg\u001B[49m\u001B[43m(\u001B[49m\u001B[43maggfunc\u001B[49m\u001B[43m)\u001B[49m\n\u001B[0;32m    169\u001B[0m \u001B[38;5;28;01mif\u001B[39;00m dropna \u001B[38;5;129;01mand\u001B[39;00m \u001B[38;5;28misinstance\u001B[39m(agged, ABCDataFrame) \u001B[38;5;129;01mand\u001B[39;00m \u001B[38;5;28mlen\u001B[39m(agged\u001B[38;5;241m.\u001B[39mcolumns):\n\u001B[0;32m    170\u001B[0m     agged \u001B[38;5;241m=\u001B[39m agged\u001B[38;5;241m.\u001B[39mdropna(how\u001B[38;5;241m=\u001B[39m\u001B[38;5;124m\"\u001B[39m\u001B[38;5;124mall\u001B[39m\u001B[38;5;124m\"\u001B[39m)\n",
      "File \u001B[1;32m~\\projects\\diplo\\venv\\lib\\site-packages\\pandas\\core\\groupby\\generic.py:1269\u001B[0m, in \u001B[0;36mDataFrameGroupBy.aggregate\u001B[1;34m(self, func, engine, engine_kwargs, *args, **kwargs)\u001B[0m\n\u001B[0;32m   1266\u001B[0m func \u001B[38;5;241m=\u001B[39m maybe_mangle_lambdas(func)\n\u001B[0;32m   1268\u001B[0m op \u001B[38;5;241m=\u001B[39m GroupByApply(\u001B[38;5;28mself\u001B[39m, func, args, kwargs)\n\u001B[1;32m-> 1269\u001B[0m result \u001B[38;5;241m=\u001B[39m \u001B[43mop\u001B[49m\u001B[38;5;241;43m.\u001B[39;49m\u001B[43magg\u001B[49m\u001B[43m(\u001B[49m\u001B[43m)\u001B[49m\n\u001B[0;32m   1270\u001B[0m \u001B[38;5;28;01mif\u001B[39;00m \u001B[38;5;129;01mnot\u001B[39;00m is_dict_like(func) \u001B[38;5;129;01mand\u001B[39;00m result \u001B[38;5;129;01mis\u001B[39;00m \u001B[38;5;129;01mnot\u001B[39;00m \u001B[38;5;28;01mNone\u001B[39;00m:\n\u001B[0;32m   1271\u001B[0m     \u001B[38;5;28;01mreturn\u001B[39;00m result\n",
      "File \u001B[1;32m~\\projects\\diplo\\venv\\lib\\site-packages\\pandas\\core\\apply.py:160\u001B[0m, in \u001B[0;36mApply.agg\u001B[1;34m(self)\u001B[0m\n\u001B[0;32m    157\u001B[0m kwargs \u001B[38;5;241m=\u001B[39m \u001B[38;5;28mself\u001B[39m\u001B[38;5;241m.\u001B[39mkwargs\n\u001B[0;32m    159\u001B[0m \u001B[38;5;28;01mif\u001B[39;00m \u001B[38;5;28misinstance\u001B[39m(arg, \u001B[38;5;28mstr\u001B[39m):\n\u001B[1;32m--> 160\u001B[0m     \u001B[38;5;28;01mreturn\u001B[39;00m \u001B[38;5;28;43mself\u001B[39;49m\u001B[38;5;241;43m.\u001B[39;49m\u001B[43mapply_str\u001B[49m\u001B[43m(\u001B[49m\u001B[43m)\u001B[49m\n\u001B[0;32m    162\u001B[0m \u001B[38;5;28;01mif\u001B[39;00m is_dict_like(arg):\n\u001B[0;32m    163\u001B[0m     \u001B[38;5;28;01mreturn\u001B[39;00m \u001B[38;5;28mself\u001B[39m\u001B[38;5;241m.\u001B[39magg_dict_like()\n",
      "File \u001B[1;32m~\\projects\\diplo\\venv\\lib\\site-packages\\pandas\\core\\apply.py:496\u001B[0m, in \u001B[0;36mApply.apply_str\u001B[1;34m(self)\u001B[0m\n\u001B[0;32m    494\u001B[0m     \u001B[38;5;28;01mif\u001B[39;00m \u001B[38;5;124m\"\u001B[39m\u001B[38;5;124maxis\u001B[39m\u001B[38;5;124m\"\u001B[39m \u001B[38;5;129;01min\u001B[39;00m arg_names:\n\u001B[0;32m    495\u001B[0m         \u001B[38;5;28mself\u001B[39m\u001B[38;5;241m.\u001B[39mkwargs[\u001B[38;5;124m\"\u001B[39m\u001B[38;5;124maxis\u001B[39m\u001B[38;5;124m\"\u001B[39m] \u001B[38;5;241m=\u001B[39m \u001B[38;5;28mself\u001B[39m\u001B[38;5;241m.\u001B[39maxis\n\u001B[1;32m--> 496\u001B[0m \u001B[38;5;28;01mreturn\u001B[39;00m \u001B[38;5;28mself\u001B[39m\u001B[38;5;241m.\u001B[39m_try_aggregate_string_function(obj, f, \u001B[38;5;241m*\u001B[39m\u001B[38;5;28mself\u001B[39m\u001B[38;5;241m.\u001B[39margs, \u001B[38;5;241m*\u001B[39m\u001B[38;5;241m*\u001B[39m\u001B[38;5;28mself\u001B[39m\u001B[38;5;241m.\u001B[39mkwargs)\n",
      "File \u001B[1;32m~\\projects\\diplo\\venv\\lib\\site-packages\\pandas\\core\\apply.py:565\u001B[0m, in \u001B[0;36mApply._try_aggregate_string_function\u001B[1;34m(self, obj, arg, *args, **kwargs)\u001B[0m\n\u001B[0;32m    563\u001B[0m \u001B[38;5;28;01mif\u001B[39;00m f \u001B[38;5;129;01mis\u001B[39;00m \u001B[38;5;129;01mnot\u001B[39;00m \u001B[38;5;28;01mNone\u001B[39;00m:\n\u001B[0;32m    564\u001B[0m     \u001B[38;5;28;01mif\u001B[39;00m \u001B[38;5;28mcallable\u001B[39m(f):\n\u001B[1;32m--> 565\u001B[0m         \u001B[38;5;28;01mreturn\u001B[39;00m f(\u001B[38;5;241m*\u001B[39margs, \u001B[38;5;241m*\u001B[39m\u001B[38;5;241m*\u001B[39mkwargs)\n\u001B[0;32m    567\u001B[0m     \u001B[38;5;66;03m# people may try to aggregate on a non-callable attribute\u001B[39;00m\n\u001B[0;32m    568\u001B[0m     \u001B[38;5;66;03m# but don't let them think they can pass args to it\u001B[39;00m\n\u001B[0;32m    569\u001B[0m     \u001B[38;5;28;01massert\u001B[39;00m \u001B[38;5;28mlen\u001B[39m(args) \u001B[38;5;241m==\u001B[39m \u001B[38;5;241m0\u001B[39m\n",
      "File \u001B[1;32m~\\projects\\diplo\\venv\\lib\\site-packages\\pandas\\core\\groupby\\groupby.py:1855\u001B[0m, in \u001B[0;36mGroupBy.mean\u001B[1;34m(self, numeric_only, engine, engine_kwargs)\u001B[0m\n\u001B[0;32m   1853\u001B[0m     \u001B[38;5;28;01mreturn\u001B[39;00m \u001B[38;5;28mself\u001B[39m\u001B[38;5;241m.\u001B[39m_numba_agg_general(sliding_mean, engine_kwargs)\n\u001B[0;32m   1854\u001B[0m \u001B[38;5;28;01melse\u001B[39;00m:\n\u001B[1;32m-> 1855\u001B[0m     result \u001B[38;5;241m=\u001B[39m \u001B[38;5;28;43mself\u001B[39;49m\u001B[38;5;241;43m.\u001B[39;49m\u001B[43m_cython_agg_general\u001B[49m\u001B[43m(\u001B[49m\n\u001B[0;32m   1856\u001B[0m \u001B[43m        \u001B[49m\u001B[38;5;124;43m\"\u001B[39;49m\u001B[38;5;124;43mmean\u001B[39;49m\u001B[38;5;124;43m\"\u001B[39;49m\u001B[43m,\u001B[49m\n\u001B[0;32m   1857\u001B[0m \u001B[43m        \u001B[49m\u001B[43malt\u001B[49m\u001B[38;5;241;43m=\u001B[39;49m\u001B[38;5;28;43;01mlambda\u001B[39;49;00m\u001B[43m \u001B[49m\u001B[43mx\u001B[49m\u001B[43m:\u001B[49m\u001B[43m \u001B[49m\u001B[43mSeries\u001B[49m\u001B[43m(\u001B[49m\u001B[43mx\u001B[49m\u001B[43m)\u001B[49m\u001B[38;5;241;43m.\u001B[39;49m\u001B[43mmean\u001B[49m\u001B[43m(\u001B[49m\u001B[43mnumeric_only\u001B[49m\u001B[38;5;241;43m=\u001B[39;49m\u001B[43mnumeric_only\u001B[49m\u001B[43m)\u001B[49m\u001B[43m,\u001B[49m\n\u001B[0;32m   1858\u001B[0m \u001B[43m        \u001B[49m\u001B[43mnumeric_only\u001B[49m\u001B[38;5;241;43m=\u001B[39;49m\u001B[43mnumeric_only\u001B[49m\u001B[43m,\u001B[49m\n\u001B[0;32m   1859\u001B[0m \u001B[43m    \u001B[49m\u001B[43m)\u001B[49m\n\u001B[0;32m   1860\u001B[0m     \u001B[38;5;28;01mreturn\u001B[39;00m result\u001B[38;5;241m.\u001B[39m__finalize__(\u001B[38;5;28mself\u001B[39m\u001B[38;5;241m.\u001B[39mobj, method\u001B[38;5;241m=\u001B[39m\u001B[38;5;124m\"\u001B[39m\u001B[38;5;124mgroupby\u001B[39m\u001B[38;5;124m\"\u001B[39m)\n",
      "File \u001B[1;32m~\\projects\\diplo\\venv\\lib\\site-packages\\pandas\\core\\groupby\\groupby.py:1507\u001B[0m, in \u001B[0;36mGroupBy._cython_agg_general\u001B[1;34m(self, how, alt, numeric_only, min_count, **kwargs)\u001B[0m\n\u001B[0;32m   1503\u001B[0m         result \u001B[38;5;241m=\u001B[39m \u001B[38;5;28mself\u001B[39m\u001B[38;5;241m.\u001B[39m_agg_py_fallback(values, ndim\u001B[38;5;241m=\u001B[39mdata\u001B[38;5;241m.\u001B[39mndim, alt\u001B[38;5;241m=\u001B[39malt)\n\u001B[0;32m   1505\u001B[0m     \u001B[38;5;28;01mreturn\u001B[39;00m result\n\u001B[1;32m-> 1507\u001B[0m new_mgr \u001B[38;5;241m=\u001B[39m \u001B[43mdata\u001B[49m\u001B[38;5;241;43m.\u001B[39;49m\u001B[43mgrouped_reduce\u001B[49m\u001B[43m(\u001B[49m\u001B[43marray_func\u001B[49m\u001B[43m)\u001B[49m\n\u001B[0;32m   1508\u001B[0m res \u001B[38;5;241m=\u001B[39m \u001B[38;5;28mself\u001B[39m\u001B[38;5;241m.\u001B[39m_wrap_agged_manager(new_mgr)\n\u001B[0;32m   1509\u001B[0m out \u001B[38;5;241m=\u001B[39m \u001B[38;5;28mself\u001B[39m\u001B[38;5;241m.\u001B[39m_wrap_aggregated_output(res)\n",
      "File \u001B[1;32m~\\projects\\diplo\\venv\\lib\\site-packages\\pandas\\core\\internals\\managers.py:1503\u001B[0m, in \u001B[0;36mBlockManager.grouped_reduce\u001B[1;34m(self, func)\u001B[0m\n\u001B[0;32m   1499\u001B[0m \u001B[38;5;28;01mif\u001B[39;00m blk\u001B[38;5;241m.\u001B[39mis_object:\n\u001B[0;32m   1500\u001B[0m     \u001B[38;5;66;03m# split on object-dtype blocks bc some columns may raise\u001B[39;00m\n\u001B[0;32m   1501\u001B[0m     \u001B[38;5;66;03m#  while others do not.\u001B[39;00m\n\u001B[0;32m   1502\u001B[0m     \u001B[38;5;28;01mfor\u001B[39;00m sb \u001B[38;5;129;01min\u001B[39;00m blk\u001B[38;5;241m.\u001B[39m_split():\n\u001B[1;32m-> 1503\u001B[0m         applied \u001B[38;5;241m=\u001B[39m \u001B[43msb\u001B[49m\u001B[38;5;241;43m.\u001B[39;49m\u001B[43mapply\u001B[49m\u001B[43m(\u001B[49m\u001B[43mfunc\u001B[49m\u001B[43m)\u001B[49m\n\u001B[0;32m   1504\u001B[0m         result_blocks \u001B[38;5;241m=\u001B[39m extend_blocks(applied, result_blocks)\n\u001B[0;32m   1505\u001B[0m \u001B[38;5;28;01melse\u001B[39;00m:\n",
      "File \u001B[1;32m~\\projects\\diplo\\venv\\lib\\site-packages\\pandas\\core\\internals\\blocks.py:329\u001B[0m, in \u001B[0;36mBlock.apply\u001B[1;34m(self, func, **kwargs)\u001B[0m\n\u001B[0;32m    323\u001B[0m \u001B[38;5;129m@final\u001B[39m\n\u001B[0;32m    324\u001B[0m \u001B[38;5;28;01mdef\u001B[39;00m \u001B[38;5;21mapply\u001B[39m(\u001B[38;5;28mself\u001B[39m, func, \u001B[38;5;241m*\u001B[39m\u001B[38;5;241m*\u001B[39mkwargs) \u001B[38;5;241m-\u001B[39m\u001B[38;5;241m>\u001B[39m \u001B[38;5;28mlist\u001B[39m[Block]:\n\u001B[0;32m    325\u001B[0m \u001B[38;5;250m    \u001B[39m\u001B[38;5;124;03m\"\"\"\u001B[39;00m\n\u001B[0;32m    326\u001B[0m \u001B[38;5;124;03m    apply the function to my values; return a block if we are not\u001B[39;00m\n\u001B[0;32m    327\u001B[0m \u001B[38;5;124;03m    one\u001B[39;00m\n\u001B[0;32m    328\u001B[0m \u001B[38;5;124;03m    \"\"\"\u001B[39;00m\n\u001B[1;32m--> 329\u001B[0m     result \u001B[38;5;241m=\u001B[39m func(\u001B[38;5;28mself\u001B[39m\u001B[38;5;241m.\u001B[39mvalues, \u001B[38;5;241m*\u001B[39m\u001B[38;5;241m*\u001B[39mkwargs)\n\u001B[0;32m    331\u001B[0m     \u001B[38;5;28;01mreturn\u001B[39;00m \u001B[38;5;28mself\u001B[39m\u001B[38;5;241m.\u001B[39m_split_op_result(result)\n",
      "File \u001B[1;32m~\\projects\\diplo\\venv\\lib\\site-packages\\pandas\\core\\groupby\\groupby.py:1503\u001B[0m, in \u001B[0;36mGroupBy._cython_agg_general.<locals>.array_func\u001B[1;34m(values)\u001B[0m\n\u001B[0;32m   1490\u001B[0m     result \u001B[38;5;241m=\u001B[39m \u001B[38;5;28mself\u001B[39m\u001B[38;5;241m.\u001B[39mgrouper\u001B[38;5;241m.\u001B[39m_cython_operation(\n\u001B[0;32m   1491\u001B[0m         \u001B[38;5;124m\"\u001B[39m\u001B[38;5;124maggregate\u001B[39m\u001B[38;5;124m\"\u001B[39m,\n\u001B[0;32m   1492\u001B[0m         values,\n\u001B[1;32m   (...)\u001B[0m\n\u001B[0;32m   1496\u001B[0m         \u001B[38;5;241m*\u001B[39m\u001B[38;5;241m*\u001B[39mkwargs,\n\u001B[0;32m   1497\u001B[0m     )\n\u001B[0;32m   1498\u001B[0m \u001B[38;5;28;01mexcept\u001B[39;00m \u001B[38;5;167;01mNotImplementedError\u001B[39;00m:\n\u001B[0;32m   1499\u001B[0m     \u001B[38;5;66;03m# generally if we have numeric_only=False\u001B[39;00m\n\u001B[0;32m   1500\u001B[0m     \u001B[38;5;66;03m# and non-applicable functions\u001B[39;00m\n\u001B[0;32m   1501\u001B[0m     \u001B[38;5;66;03m# try to python agg\u001B[39;00m\n\u001B[0;32m   1502\u001B[0m     \u001B[38;5;66;03m# TODO: shouldn't min_count matter?\u001B[39;00m\n\u001B[1;32m-> 1503\u001B[0m     result \u001B[38;5;241m=\u001B[39m \u001B[38;5;28;43mself\u001B[39;49m\u001B[38;5;241;43m.\u001B[39;49m\u001B[43m_agg_py_fallback\u001B[49m\u001B[43m(\u001B[49m\u001B[43mvalues\u001B[49m\u001B[43m,\u001B[49m\u001B[43m \u001B[49m\u001B[43mndim\u001B[49m\u001B[38;5;241;43m=\u001B[39;49m\u001B[43mdata\u001B[49m\u001B[38;5;241;43m.\u001B[39;49m\u001B[43mndim\u001B[49m\u001B[43m,\u001B[49m\u001B[43m \u001B[49m\u001B[43malt\u001B[49m\u001B[38;5;241;43m=\u001B[39;49m\u001B[43malt\u001B[49m\u001B[43m)\u001B[49m\n\u001B[0;32m   1505\u001B[0m \u001B[38;5;28;01mreturn\u001B[39;00m result\n",
      "File \u001B[1;32m~\\projects\\diplo\\venv\\lib\\site-packages\\pandas\\core\\groupby\\groupby.py:1457\u001B[0m, in \u001B[0;36mGroupBy._agg_py_fallback\u001B[1;34m(self, values, ndim, alt)\u001B[0m\n\u001B[0;32m   1452\u001B[0m     ser \u001B[38;5;241m=\u001B[39m df\u001B[38;5;241m.\u001B[39miloc[:, \u001B[38;5;241m0\u001B[39m]\n\u001B[0;32m   1454\u001B[0m \u001B[38;5;66;03m# We do not get here with UDFs, so we know that our dtype\u001B[39;00m\n\u001B[0;32m   1455\u001B[0m \u001B[38;5;66;03m#  should always be preserved by the implemented aggregations\u001B[39;00m\n\u001B[0;32m   1456\u001B[0m \u001B[38;5;66;03m# TODO: Is this exactly right; see WrappedCythonOp get_result_dtype?\u001B[39;00m\n\u001B[1;32m-> 1457\u001B[0m res_values \u001B[38;5;241m=\u001B[39m \u001B[38;5;28;43mself\u001B[39;49m\u001B[38;5;241;43m.\u001B[39;49m\u001B[43mgrouper\u001B[49m\u001B[38;5;241;43m.\u001B[39;49m\u001B[43magg_series\u001B[49m\u001B[43m(\u001B[49m\u001B[43mser\u001B[49m\u001B[43m,\u001B[49m\u001B[43m \u001B[49m\u001B[43malt\u001B[49m\u001B[43m,\u001B[49m\u001B[43m \u001B[49m\u001B[43mpreserve_dtype\u001B[49m\u001B[38;5;241;43m=\u001B[39;49m\u001B[38;5;28;43;01mTrue\u001B[39;49;00m\u001B[43m)\u001B[49m\n\u001B[0;32m   1459\u001B[0m \u001B[38;5;28;01mif\u001B[39;00m \u001B[38;5;28misinstance\u001B[39m(values, Categorical):\n\u001B[0;32m   1460\u001B[0m     \u001B[38;5;66;03m# Because we only get here with known dtype-preserving\u001B[39;00m\n\u001B[0;32m   1461\u001B[0m     \u001B[38;5;66;03m#  reductions, we cast back to Categorical.\u001B[39;00m\n\u001B[0;32m   1462\u001B[0m     \u001B[38;5;66;03m# TODO: if we ever get \"rank\" working, exclude it here.\u001B[39;00m\n\u001B[0;32m   1463\u001B[0m     res_values \u001B[38;5;241m=\u001B[39m \u001B[38;5;28mtype\u001B[39m(values)\u001B[38;5;241m.\u001B[39m_from_sequence(res_values, dtype\u001B[38;5;241m=\u001B[39mvalues\u001B[38;5;241m.\u001B[39mdtype)\n",
      "File \u001B[1;32m~\\projects\\diplo\\venv\\lib\\site-packages\\pandas\\core\\groupby\\ops.py:994\u001B[0m, in \u001B[0;36mBaseGrouper.agg_series\u001B[1;34m(self, obj, func, preserve_dtype)\u001B[0m\n\u001B[0;32m    987\u001B[0m \u001B[38;5;28;01mif\u001B[39;00m \u001B[38;5;28mlen\u001B[39m(obj) \u001B[38;5;241m>\u001B[39m \u001B[38;5;241m0\u001B[39m \u001B[38;5;129;01mand\u001B[39;00m \u001B[38;5;129;01mnot\u001B[39;00m \u001B[38;5;28misinstance\u001B[39m(obj\u001B[38;5;241m.\u001B[39m_values, np\u001B[38;5;241m.\u001B[39mndarray):\n\u001B[0;32m    988\u001B[0m     \u001B[38;5;66;03m# we can preserve a little bit more aggressively with EA dtype\u001B[39;00m\n\u001B[0;32m    989\u001B[0m     \u001B[38;5;66;03m#  because maybe_cast_pointwise_result will do a try/except\u001B[39;00m\n\u001B[0;32m    990\u001B[0m     \u001B[38;5;66;03m#  with _from_sequence.  NB we are assuming here that _from_sequence\u001B[39;00m\n\u001B[0;32m    991\u001B[0m     \u001B[38;5;66;03m#  is sufficiently strict that it casts appropriately.\u001B[39;00m\n\u001B[0;32m    992\u001B[0m     preserve_dtype \u001B[38;5;241m=\u001B[39m \u001B[38;5;28;01mTrue\u001B[39;00m\n\u001B[1;32m--> 994\u001B[0m result \u001B[38;5;241m=\u001B[39m \u001B[38;5;28;43mself\u001B[39;49m\u001B[38;5;241;43m.\u001B[39;49m\u001B[43m_aggregate_series_pure_python\u001B[49m\u001B[43m(\u001B[49m\u001B[43mobj\u001B[49m\u001B[43m,\u001B[49m\u001B[43m \u001B[49m\u001B[43mfunc\u001B[49m\u001B[43m)\u001B[49m\n\u001B[0;32m    996\u001B[0m npvalues \u001B[38;5;241m=\u001B[39m lib\u001B[38;5;241m.\u001B[39mmaybe_convert_objects(result, try_float\u001B[38;5;241m=\u001B[39m\u001B[38;5;28;01mFalse\u001B[39;00m)\n\u001B[0;32m    997\u001B[0m \u001B[38;5;28;01mif\u001B[39;00m preserve_dtype:\n",
      "File \u001B[1;32m~\\projects\\diplo\\venv\\lib\\site-packages\\pandas\\core\\groupby\\ops.py:1015\u001B[0m, in \u001B[0;36mBaseGrouper._aggregate_series_pure_python\u001B[1;34m(self, obj, func)\u001B[0m\n\u001B[0;32m   1012\u001B[0m splitter \u001B[38;5;241m=\u001B[39m \u001B[38;5;28mself\u001B[39m\u001B[38;5;241m.\u001B[39m_get_splitter(obj, axis\u001B[38;5;241m=\u001B[39m\u001B[38;5;241m0\u001B[39m)\n\u001B[0;32m   1014\u001B[0m \u001B[38;5;28;01mfor\u001B[39;00m i, group \u001B[38;5;129;01min\u001B[39;00m \u001B[38;5;28menumerate\u001B[39m(splitter):\n\u001B[1;32m-> 1015\u001B[0m     res \u001B[38;5;241m=\u001B[39m \u001B[43mfunc\u001B[49m\u001B[43m(\u001B[49m\u001B[43mgroup\u001B[49m\u001B[43m)\u001B[49m\n\u001B[0;32m   1016\u001B[0m     res \u001B[38;5;241m=\u001B[39m libreduction\u001B[38;5;241m.\u001B[39mextract_result(res)\n\u001B[0;32m   1018\u001B[0m     \u001B[38;5;28;01mif\u001B[39;00m \u001B[38;5;129;01mnot\u001B[39;00m initialized:\n\u001B[0;32m   1019\u001B[0m         \u001B[38;5;66;03m# We only do this validation on the first iteration\u001B[39;00m\n",
      "File \u001B[1;32m~\\projects\\diplo\\venv\\lib\\site-packages\\pandas\\core\\groupby\\groupby.py:1857\u001B[0m, in \u001B[0;36mGroupBy.mean.<locals>.<lambda>\u001B[1;34m(x)\u001B[0m\n\u001B[0;32m   1853\u001B[0m     \u001B[38;5;28;01mreturn\u001B[39;00m \u001B[38;5;28mself\u001B[39m\u001B[38;5;241m.\u001B[39m_numba_agg_general(sliding_mean, engine_kwargs)\n\u001B[0;32m   1854\u001B[0m \u001B[38;5;28;01melse\u001B[39;00m:\n\u001B[0;32m   1855\u001B[0m     result \u001B[38;5;241m=\u001B[39m \u001B[38;5;28mself\u001B[39m\u001B[38;5;241m.\u001B[39m_cython_agg_general(\n\u001B[0;32m   1856\u001B[0m         \u001B[38;5;124m\"\u001B[39m\u001B[38;5;124mmean\u001B[39m\u001B[38;5;124m\"\u001B[39m,\n\u001B[1;32m-> 1857\u001B[0m         alt\u001B[38;5;241m=\u001B[39m\u001B[38;5;28;01mlambda\u001B[39;00m x: \u001B[43mSeries\u001B[49m\u001B[43m(\u001B[49m\u001B[43mx\u001B[49m\u001B[43m)\u001B[49m\u001B[38;5;241;43m.\u001B[39;49m\u001B[43mmean\u001B[49m\u001B[43m(\u001B[49m\u001B[43mnumeric_only\u001B[49m\u001B[38;5;241;43m=\u001B[39;49m\u001B[43mnumeric_only\u001B[49m\u001B[43m)\u001B[49m,\n\u001B[0;32m   1858\u001B[0m         numeric_only\u001B[38;5;241m=\u001B[39mnumeric_only,\n\u001B[0;32m   1859\u001B[0m     )\n\u001B[0;32m   1860\u001B[0m     \u001B[38;5;28;01mreturn\u001B[39;00m result\u001B[38;5;241m.\u001B[39m__finalize__(\u001B[38;5;28mself\u001B[39m\u001B[38;5;241m.\u001B[39mobj, method\u001B[38;5;241m=\u001B[39m\u001B[38;5;124m\"\u001B[39m\u001B[38;5;124mgroupby\u001B[39m\u001B[38;5;124m\"\u001B[39m)\n",
      "File \u001B[1;32m~\\projects\\diplo\\venv\\lib\\site-packages\\pandas\\core\\generic.py:11556\u001B[0m, in \u001B[0;36mNDFrame._add_numeric_operations.<locals>.mean\u001B[1;34m(self, axis, skipna, numeric_only, **kwargs)\u001B[0m\n\u001B[0;32m  11539\u001B[0m \u001B[38;5;129m@doc\u001B[39m(\n\u001B[0;32m  11540\u001B[0m     _num_doc,\n\u001B[0;32m  11541\u001B[0m     desc\u001B[38;5;241m=\u001B[39m\u001B[38;5;124m\"\u001B[39m\u001B[38;5;124mReturn the mean of the values over the requested axis.\u001B[39m\u001B[38;5;124m\"\u001B[39m,\n\u001B[1;32m   (...)\u001B[0m\n\u001B[0;32m  11554\u001B[0m     \u001B[38;5;241m*\u001B[39m\u001B[38;5;241m*\u001B[39mkwargs,\n\u001B[0;32m  11555\u001B[0m ):\n\u001B[1;32m> 11556\u001B[0m     \u001B[38;5;28;01mreturn\u001B[39;00m NDFrame\u001B[38;5;241m.\u001B[39mmean(\u001B[38;5;28mself\u001B[39m, axis, skipna, numeric_only, \u001B[38;5;241m*\u001B[39m\u001B[38;5;241m*\u001B[39mkwargs)\n",
      "File \u001B[1;32m~\\projects\\diplo\\venv\\lib\\site-packages\\pandas\\core\\generic.py:11201\u001B[0m, in \u001B[0;36mNDFrame.mean\u001B[1;34m(self, axis, skipna, numeric_only, **kwargs)\u001B[0m\n\u001B[0;32m  11194\u001B[0m \u001B[38;5;28;01mdef\u001B[39;00m \u001B[38;5;21mmean\u001B[39m(\n\u001B[0;32m  11195\u001B[0m     \u001B[38;5;28mself\u001B[39m,\n\u001B[0;32m  11196\u001B[0m     axis: Axis \u001B[38;5;241m|\u001B[39m \u001B[38;5;28;01mNone\u001B[39;00m \u001B[38;5;241m=\u001B[39m \u001B[38;5;241m0\u001B[39m,\n\u001B[1;32m   (...)\u001B[0m\n\u001B[0;32m  11199\u001B[0m     \u001B[38;5;241m*\u001B[39m\u001B[38;5;241m*\u001B[39mkwargs,\n\u001B[0;32m  11200\u001B[0m ) \u001B[38;5;241m-\u001B[39m\u001B[38;5;241m>\u001B[39m Series \u001B[38;5;241m|\u001B[39m \u001B[38;5;28mfloat\u001B[39m:\n\u001B[1;32m> 11201\u001B[0m     \u001B[38;5;28;01mreturn\u001B[39;00m \u001B[38;5;28mself\u001B[39m\u001B[38;5;241m.\u001B[39m_stat_function(\n\u001B[0;32m  11202\u001B[0m         \u001B[38;5;124m\"\u001B[39m\u001B[38;5;124mmean\u001B[39m\u001B[38;5;124m\"\u001B[39m, nanops\u001B[38;5;241m.\u001B[39mnanmean, axis, skipna, numeric_only, \u001B[38;5;241m*\u001B[39m\u001B[38;5;241m*\u001B[39mkwargs\n\u001B[0;32m  11203\u001B[0m     )\n",
      "File \u001B[1;32m~\\projects\\diplo\\venv\\lib\\site-packages\\pandas\\core\\generic.py:11158\u001B[0m, in \u001B[0;36mNDFrame._stat_function\u001B[1;34m(self, name, func, axis, skipna, numeric_only, **kwargs)\u001B[0m\n\u001B[0;32m  11154\u001B[0m     nv\u001B[38;5;241m.\u001B[39mvalidate_stat_func((), kwargs, fname\u001B[38;5;241m=\u001B[39mname)\n\u001B[0;32m  11156\u001B[0m validate_bool_kwarg(skipna, \u001B[38;5;124m\"\u001B[39m\u001B[38;5;124mskipna\u001B[39m\u001B[38;5;124m\"\u001B[39m, none_allowed\u001B[38;5;241m=\u001B[39m\u001B[38;5;28;01mFalse\u001B[39;00m)\n\u001B[1;32m> 11158\u001B[0m \u001B[38;5;28;01mreturn\u001B[39;00m \u001B[38;5;28;43mself\u001B[39;49m\u001B[38;5;241;43m.\u001B[39;49m\u001B[43m_reduce\u001B[49m\u001B[43m(\u001B[49m\n\u001B[0;32m  11159\u001B[0m \u001B[43m    \u001B[49m\u001B[43mfunc\u001B[49m\u001B[43m,\u001B[49m\u001B[43m \u001B[49m\u001B[43mname\u001B[49m\u001B[38;5;241;43m=\u001B[39;49m\u001B[43mname\u001B[49m\u001B[43m,\u001B[49m\u001B[43m \u001B[49m\u001B[43maxis\u001B[49m\u001B[38;5;241;43m=\u001B[39;49m\u001B[43maxis\u001B[49m\u001B[43m,\u001B[49m\u001B[43m \u001B[49m\u001B[43mskipna\u001B[49m\u001B[38;5;241;43m=\u001B[39;49m\u001B[43mskipna\u001B[49m\u001B[43m,\u001B[49m\u001B[43m \u001B[49m\u001B[43mnumeric_only\u001B[49m\u001B[38;5;241;43m=\u001B[39;49m\u001B[43mnumeric_only\u001B[49m\n\u001B[0;32m  11160\u001B[0m \u001B[43m\u001B[49m\u001B[43m)\u001B[49m\n",
      "File \u001B[1;32m~\\projects\\diplo\\venv\\lib\\site-packages\\pandas\\core\\series.py:4666\u001B[0m, in \u001B[0;36mSeries._reduce\u001B[1;34m(self, op, name, axis, skipna, numeric_only, filter_type, **kwds)\u001B[0m\n\u001B[0;32m   4661\u001B[0m     \u001B[38;5;28;01mraise\u001B[39;00m \u001B[38;5;167;01mTypeError\u001B[39;00m(\n\u001B[0;32m   4662\u001B[0m         \u001B[38;5;124mf\u001B[39m\u001B[38;5;124m\"\u001B[39m\u001B[38;5;124mSeries.\u001B[39m\u001B[38;5;132;01m{\u001B[39;00mname\u001B[38;5;132;01m}\u001B[39;00m\u001B[38;5;124m does not allow \u001B[39m\u001B[38;5;132;01m{\u001B[39;00mkwd_name\u001B[38;5;132;01m}\u001B[39;00m\u001B[38;5;124m=\u001B[39m\u001B[38;5;132;01m{\u001B[39;00mnumeric_only\u001B[38;5;132;01m}\u001B[39;00m\u001B[38;5;124m \u001B[39m\u001B[38;5;124m\"\u001B[39m\n\u001B[0;32m   4663\u001B[0m         \u001B[38;5;124m\"\u001B[39m\u001B[38;5;124mwith non-numeric dtypes.\u001B[39m\u001B[38;5;124m\"\u001B[39m\n\u001B[0;32m   4664\u001B[0m     )\n\u001B[0;32m   4665\u001B[0m \u001B[38;5;28;01mwith\u001B[39;00m np\u001B[38;5;241m.\u001B[39merrstate(\u001B[38;5;28mall\u001B[39m\u001B[38;5;241m=\u001B[39m\u001B[38;5;124m\"\u001B[39m\u001B[38;5;124mignore\u001B[39m\u001B[38;5;124m\"\u001B[39m):\n\u001B[1;32m-> 4666\u001B[0m     \u001B[38;5;28;01mreturn\u001B[39;00m op(delegate, skipna\u001B[38;5;241m=\u001B[39mskipna, \u001B[38;5;241m*\u001B[39m\u001B[38;5;241m*\u001B[39mkwds)\n",
      "File \u001B[1;32m~\\projects\\diplo\\venv\\lib\\site-packages\\pandas\\core\\nanops.py:96\u001B[0m, in \u001B[0;36mdisallow.__call__.<locals>._f\u001B[1;34m(*args, **kwargs)\u001B[0m\n\u001B[0;32m     94\u001B[0m \u001B[38;5;28;01mtry\u001B[39;00m:\n\u001B[0;32m     95\u001B[0m     \u001B[38;5;28;01mwith\u001B[39;00m np\u001B[38;5;241m.\u001B[39merrstate(invalid\u001B[38;5;241m=\u001B[39m\u001B[38;5;124m\"\u001B[39m\u001B[38;5;124mignore\u001B[39m\u001B[38;5;124m\"\u001B[39m):\n\u001B[1;32m---> 96\u001B[0m         \u001B[38;5;28;01mreturn\u001B[39;00m f(\u001B[38;5;241m*\u001B[39margs, \u001B[38;5;241m*\u001B[39m\u001B[38;5;241m*\u001B[39mkwargs)\n\u001B[0;32m     97\u001B[0m \u001B[38;5;28;01mexcept\u001B[39;00m \u001B[38;5;167;01mValueError\u001B[39;00m \u001B[38;5;28;01mas\u001B[39;00m e:\n\u001B[0;32m     98\u001B[0m     \u001B[38;5;66;03m# we want to transform an object array\u001B[39;00m\n\u001B[0;32m     99\u001B[0m     \u001B[38;5;66;03m# ValueError message to the more typical TypeError\u001B[39;00m\n\u001B[0;32m    100\u001B[0m     \u001B[38;5;66;03m# e.g. this is normally a disallowed function on\u001B[39;00m\n\u001B[0;32m    101\u001B[0m     \u001B[38;5;66;03m# object arrays that contain strings\u001B[39;00m\n\u001B[0;32m    102\u001B[0m     \u001B[38;5;28;01mif\u001B[39;00m is_object_dtype(args[\u001B[38;5;241m0\u001B[39m]):\n",
      "File \u001B[1;32m~\\projects\\diplo\\venv\\lib\\site-packages\\pandas\\core\\nanops.py:158\u001B[0m, in \u001B[0;36mbottleneck_switch.__call__.<locals>.f\u001B[1;34m(values, axis, skipna, **kwds)\u001B[0m\n\u001B[0;32m    156\u001B[0m         result \u001B[38;5;241m=\u001B[39m alt(values, axis\u001B[38;5;241m=\u001B[39maxis, skipna\u001B[38;5;241m=\u001B[39mskipna, \u001B[38;5;241m*\u001B[39m\u001B[38;5;241m*\u001B[39mkwds)\n\u001B[0;32m    157\u001B[0m \u001B[38;5;28;01melse\u001B[39;00m:\n\u001B[1;32m--> 158\u001B[0m     result \u001B[38;5;241m=\u001B[39m alt(values, axis\u001B[38;5;241m=\u001B[39maxis, skipna\u001B[38;5;241m=\u001B[39mskipna, \u001B[38;5;241m*\u001B[39m\u001B[38;5;241m*\u001B[39mkwds)\n\u001B[0;32m    160\u001B[0m \u001B[38;5;28;01mreturn\u001B[39;00m result\n",
      "File \u001B[1;32m~\\projects\\diplo\\venv\\lib\\site-packages\\pandas\\core\\nanops.py:421\u001B[0m, in \u001B[0;36m_datetimelike_compat.<locals>.new_func\u001B[1;34m(values, axis, skipna, mask, **kwargs)\u001B[0m\n\u001B[0;32m    418\u001B[0m \u001B[38;5;28;01mif\u001B[39;00m datetimelike \u001B[38;5;129;01mand\u001B[39;00m mask \u001B[38;5;129;01mis\u001B[39;00m \u001B[38;5;28;01mNone\u001B[39;00m:\n\u001B[0;32m    419\u001B[0m     mask \u001B[38;5;241m=\u001B[39m isna(values)\n\u001B[1;32m--> 421\u001B[0m result \u001B[38;5;241m=\u001B[39m func(values, axis\u001B[38;5;241m=\u001B[39maxis, skipna\u001B[38;5;241m=\u001B[39mskipna, mask\u001B[38;5;241m=\u001B[39mmask, \u001B[38;5;241m*\u001B[39m\u001B[38;5;241m*\u001B[39mkwargs)\n\u001B[0;32m    423\u001B[0m \u001B[38;5;28;01mif\u001B[39;00m datetimelike:\n\u001B[0;32m    424\u001B[0m     result \u001B[38;5;241m=\u001B[39m _wrap_results(result, orig_values\u001B[38;5;241m.\u001B[39mdtype, fill_value\u001B[38;5;241m=\u001B[39miNaT)\n",
      "File \u001B[1;32m~\\projects\\diplo\\venv\\lib\\site-packages\\pandas\\core\\nanops.py:727\u001B[0m, in \u001B[0;36mnanmean\u001B[1;34m(values, axis, skipna, mask)\u001B[0m\n\u001B[0;32m    724\u001B[0m     dtype_count \u001B[38;5;241m=\u001B[39m dtype\n\u001B[0;32m    726\u001B[0m count \u001B[38;5;241m=\u001B[39m _get_counts(values\u001B[38;5;241m.\u001B[39mshape, mask, axis, dtype\u001B[38;5;241m=\u001B[39mdtype_count)\n\u001B[1;32m--> 727\u001B[0m the_sum \u001B[38;5;241m=\u001B[39m \u001B[43m_ensure_numeric\u001B[49m\u001B[43m(\u001B[49m\u001B[43mvalues\u001B[49m\u001B[38;5;241;43m.\u001B[39;49m\u001B[43msum\u001B[49m\u001B[43m(\u001B[49m\u001B[43maxis\u001B[49m\u001B[43m,\u001B[49m\u001B[43m \u001B[49m\u001B[43mdtype\u001B[49m\u001B[38;5;241;43m=\u001B[39;49m\u001B[43mdtype_sum\u001B[49m\u001B[43m)\u001B[49m\u001B[43m)\u001B[49m\n\u001B[0;32m    729\u001B[0m \u001B[38;5;28;01mif\u001B[39;00m axis \u001B[38;5;129;01mis\u001B[39;00m \u001B[38;5;129;01mnot\u001B[39;00m \u001B[38;5;28;01mNone\u001B[39;00m \u001B[38;5;129;01mand\u001B[39;00m \u001B[38;5;28mgetattr\u001B[39m(the_sum, \u001B[38;5;124m\"\u001B[39m\u001B[38;5;124mndim\u001B[39m\u001B[38;5;124m\"\u001B[39m, \u001B[38;5;28;01mFalse\u001B[39;00m):\n\u001B[0;32m    730\u001B[0m     count \u001B[38;5;241m=\u001B[39m cast(np\u001B[38;5;241m.\u001B[39mndarray, count)\n",
      "File \u001B[1;32m~\\projects\\diplo\\venv\\lib\\site-packages\\pandas\\core\\nanops.py:1699\u001B[0m, in \u001B[0;36m_ensure_numeric\u001B[1;34m(x)\u001B[0m\n\u001B[0;32m   1696\u001B[0m             x \u001B[38;5;241m=\u001B[39m \u001B[38;5;28mcomplex\u001B[39m(x)\n\u001B[0;32m   1697\u001B[0m         \u001B[38;5;28;01mexcept\u001B[39;00m \u001B[38;5;167;01mValueError\u001B[39;00m \u001B[38;5;28;01mas\u001B[39;00m err:\n\u001B[0;32m   1698\u001B[0m             \u001B[38;5;66;03m# e.g. \"foo\"\u001B[39;00m\n\u001B[1;32m-> 1699\u001B[0m             \u001B[38;5;28;01mraise\u001B[39;00m \u001B[38;5;167;01mTypeError\u001B[39;00m(\u001B[38;5;124mf\u001B[39m\u001B[38;5;124m\"\u001B[39m\u001B[38;5;124mCould not convert \u001B[39m\u001B[38;5;132;01m{\u001B[39;00mx\u001B[38;5;132;01m}\u001B[39;00m\u001B[38;5;124m to numeric\u001B[39m\u001B[38;5;124m\"\u001B[39m) \u001B[38;5;28;01mfrom\u001B[39;00m \u001B[38;5;21;01merr\u001B[39;00m\n\u001B[0;32m   1700\u001B[0m \u001B[38;5;28;01mreturn\u001B[39;00m x\n",
      "\u001B[1;31mTypeError\u001B[0m: Could not convert 01accuracymacro avgweighted avg to numeric"
     ]
    }
   ],
   "source": [
    "import os\n",
    "import pandas as pd\n",
    "\n",
    "directory = 'report'\n",
    "\n",
    "dfs = []\n",
    "\n",
    "\n",
    "for filename in os.listdir(directory):\n",
    "    if filename.endswith('.csv'):\n",
    "\n",
    "        name = filename.split('.')[0]\n",
    "        df = pd.read_csv(os.path.join(directory, filename))\n",
    "\n",
    "        df['name'] = name\n",
    "\n",
    "        dfs.append(df)\n",
    "\n",
    "\n",
    "concat_df = pd.concat(dfs)\n",
    "concat_df.style.background_gradient(cmap='coolwarm')\n",
    "\n",
    "concat_df.head(100)\n",
    "pivot_df = pd.pivot_table(concat_df, index='name')\n",
    "pivot_df.to_csv(\"PIVOT.csv\")\n",
    "concat_df.to_csv(\"REPORT.csv\")"
   ]
  },
  {
   "cell_type": "code",
   "execution_count": 6,
   "outputs": [],
   "source": [
    "import pandas as pd\n",
    "import numpy as np\n",
    "import tensorflow as tf\n",
    "import transformers\n",
    "import tqdm\n",
    "from sklearn.model_selection import train_test_split\n",
    "from keras.preprocessing import sequence\n",
    "# is_fake_title.csv\n",
    "# is_sus.csv\n",
    "# is_toxic.csv\n",
    "# trfl.csv"
   ],
   "metadata": {
    "collapsed": false,
    "ExecuteTime": {
     "end_time": "2023-05-03T15:54:14.709017Z",
     "start_time": "2023-05-03T15:54:14.639200100Z"
    }
   }
  },
  {
   "cell_type": "code",
   "execution_count": 27,
   "outputs": [
    {
     "name": "stdout",
     "output_type": "stream",
     "text": [
      "is_fake_title.csv          Unnamed: 0       is_fake\n",
      "count  23196.000000  23196.000000\n",
      "mean   11597.500000      0.751897\n",
      "std     6696.252758      0.431921\n",
      "min        0.000000      0.000000\n",
      "25%     5798.750000      1.000000\n",
      "50%    11597.500000      1.000000\n",
      "75%    17396.250000      1.000000\n",
      "max    23195.000000      1.000000\n",
      "is_sus.csv          Unnamed: 0       is_fake\n",
      "count  20001.000000  20001.000000\n",
      "mean   10000.000000      0.391080\n",
      "std     5773.935703      0.488005\n",
      "min        0.000000      0.000000\n",
      "25%     5000.000000      0.000000\n",
      "50%    10000.000000      0.000000\n",
      "75%    15000.000000      1.000000\n",
      "max    20000.000000      1.000000\n",
      "is_toxic.csv         Unnamed: 0       is_fake\n",
      "count  56745.00000  56745.000000\n",
      "mean   28372.00000      0.425641\n",
      "std    16381.01485      0.494444\n",
      "min        0.00000      0.000000\n",
      "25%    14186.00000      0.000000\n",
      "50%    28372.00000      0.000000\n",
      "75%    42558.00000      1.000000\n",
      "max    56744.00000      1.000000\n",
      "trfl.csv          Unnamed: 0      category      text_len\n",
      "count  14323.000000  14323.000000  14323.000000\n",
      "mean   10403.060253      0.465545    313.974028\n",
      "std     6004.573768      0.498829    188.781381\n",
      "min        0.000000      0.000000      2.000000\n",
      "25%     5173.000000      0.000000    160.000000\n",
      "50%    10417.000000      0.000000    283.000000\n",
      "75%    15616.500000      1.000000    463.000000\n",
      "max    20798.000000      1.000000    700.000000\n"
     ]
    }
   ],
   "source": [
    "datasets_title = [ 'is_fake_title.csv', 'is_sus.csv', 'is_toxic.csv', 'trfl.csv']\n",
    "for data in datasets_title:\n",
    "    df = pd.read_csv(f\"data/{data}\")\n",
    "    print(data, df.dropna().describe())"
   ],
   "metadata": {
    "collapsed": false,
    "ExecuteTime": {
     "end_time": "2023-05-03T16:53:34.820873700Z",
     "start_time": "2023-05-03T16:53:24.615495300Z"
    }
   }
  },
  {
   "cell_type": "code",
   "execution_count": 7,
   "outputs": [
    {
     "data": {
      "text/plain": "Downloading (…)olve/main/vocab.json:   0%|          | 0.00/899k [00:00<?, ?B/s]",
      "application/vnd.jupyter.widget-view+json": {
       "version_major": 2,
       "version_minor": 0,
       "model_id": "046be98e436c461a92bb9acee6780c32"
      }
     },
     "metadata": {},
     "output_type": "display_data"
    },
    {
     "data": {
      "text/plain": "Downloading (…)olve/main/merges.txt:   0%|          | 0.00/456k [00:00<?, ?B/s]",
      "application/vnd.jupyter.widget-view+json": {
       "version_major": 2,
       "version_minor": 0,
       "model_id": "2ae61f34623e440ea600061e8fe9faaf"
      }
     },
     "metadata": {},
     "output_type": "display_data"
    },
    {
     "data": {
      "text/plain": "Downloading (…)lve/main/config.json:   0%|          | 0.00/624 [00:00<?, ?B/s]",
      "application/vnd.jupyter.widget-view+json": {
       "version_major": 2,
       "version_minor": 0,
       "model_id": "ac04c746247646c690fa895a5dceaa54"
      }
     },
     "metadata": {},
     "output_type": "display_data"
    }
   ],
   "source": [
    "\n",
    "roberta_tokenizer = transformers.RobertaTokenizer.from_pretrained('roberta-base-openai-detector')\n"
   ],
   "metadata": {
    "collapsed": false,
    "ExecuteTime": {
     "end_time": "2023-05-03T15:54:20.942355700Z",
     "start_time": "2023-05-03T15:54:15.371265300Z"
    }
   }
  },
  {
   "cell_type": "code",
   "execution_count": 8,
   "outputs": [],
   "source": [
    "trfl = pd.read_csv(f\"data/trfl.csv\")\n",
    "trfl= trfl.rename(columns={\"category\": \"is_fake\"})\n",
    "dataset = 'is_fake_title'\n",
    "news = pd.concat([pd.read_csv(f\"data/is_fake_title.csv\"),pd.read_csv(f\"data/is_toxic.csv\"),pd.read_csv(f\"data/is_sus.csv\"),trfl])\n",
    "news.head()\n",
    "# category\n",
    "target = 'is_fake'\n",
    "news = news[['text', target]].dropna()\n",
    "news.head()\n",
    "news.describe(include='all')\n",
    "dataset = news"
   ],
   "metadata": {
    "collapsed": false,
    "ExecuteTime": {
     "end_time": "2023-05-03T15:54:29.237163Z",
     "start_time": "2023-05-03T15:54:22.128179800Z"
    }
   }
  },
  {
   "cell_type": "code",
   "execution_count": 9,
   "outputs": [],
   "source": [
    "def func_tokenizer(tokenizer_name, docs):\n",
    "    features = []\n",
    "    for doc in tqdm.tqdm(docs, desc='converting documents to features'):\n",
    "        tokens = tokenizer_name.tokenize(doc)\n",
    "        ids = tokenizer_name.convert_tokens_to_ids(tokens)\n",
    "        features.append(ids)\n",
    "    return features"
   ],
   "metadata": {
    "collapsed": false,
    "ExecuteTime": {
     "end_time": "2023-05-03T15:54:30.214558700Z",
     "start_time": "2023-05-03T15:54:30.173660100Z"
    }
   }
  },
  {
   "cell_type": "code",
   "execution_count": 15,
   "outputs": [],
   "source": [
    "\n",
    "\n",
    "\n",
    "from keras.utils import pad_sequences\n",
    "\n",
    "\n",
    "def prep_data(dataset):\n",
    "\n",
    "    print(\"The function is created successfully\")\n",
    "    X, y = news['text'], news[target]\n",
    "    X_train, X_test, y_train, y_test = train_test_split(X, y, test_size=0.2, random_state=42)\n",
    "    #Initialize bert tokenizer\n",
    "\n",
    "    roberta_test_features = func_tokenizer(roberta_tokenizer, X_test)\n",
    "    roberta_test = pad_sequences(roberta_test_features, maxlen=500)\n",
    "    return roberta_test ,y_test,X_test\n"
   ],
   "metadata": {
    "collapsed": false,
    "ExecuteTime": {
     "end_time": "2023-05-03T15:59:03.335640600Z",
     "start_time": "2023-05-03T15:59:03.294753Z"
    }
   }
  },
  {
   "cell_type": "code",
   "execution_count": 16,
   "outputs": [
    {
     "name": "stdout",
     "output_type": "stream",
     "text": [
      "is_fake_title_cb.bin\n",
      "is_fake_title_xgb.bin\n",
      "is_sus_cb.bin\n",
      "is_sus_xgb.bin\n",
      "is_toxic_cb.bin\n",
      "is_toxic_xgb.bin\n",
      "trfl_cb.bin\n",
      "trfl_xgb.bin\n"
     ]
    }
   ],
   "source": [
    "for filename in os.listdir(\"model\"):\n",
    "    print(filename)"
   ],
   "metadata": {
    "collapsed": false,
    "ExecuteTime": {
     "end_time": "2023-05-03T15:59:03.824339200Z",
     "start_time": "2023-05-03T15:59:03.788431200Z"
    }
   }
  },
  {
   "cell_type": "code",
   "execution_count": 17,
   "outputs": [
    {
     "data": {
      "text/plain": "<catboost.core.CatBoostClassifier at 0x20087f981f0>"
     },
     "execution_count": 17,
     "metadata": {},
     "output_type": "execute_result"
    }
   ],
   "source": [
    "import xgboost as xgb\n",
    "import catboost as cb\n",
    "\n",
    "\n",
    "\n",
    "test_data = pd.read_csv('data/trfl.csv')\n",
    "\n",
    "\n",
    "model_xgb_A = xgb.Booster()\n",
    "model_xgb_A.load_model('model/trfl_xgb.bin')\n",
    "model_xgb_B = xgb.Booster()\n",
    "model_xgb_B.load_model('model/is_sus_xgb.bin')\n",
    "model_xgb_C = xgb.Booster()\n",
    "model_xgb_C.load_model('model/is_toxic_xgb.bin')\n",
    "model_xgb_D = xgb.Booster()\n",
    "model_xgb_D.load_model('model/is_fake_title_xgb.bin')\n",
    "\n",
    "\n",
    "model_cb_A = cb.CatBoostClassifier()\n",
    "model_cb_A.load_model('model/trfl_cb.bin')\n",
    "model_cb_B = cb.CatBoostClassifier()\n",
    "model_cb_B.load_model('model/is_sus_cb.bin')\n",
    "model_cb_C = cb.CatBoostClassifier()\n",
    "model_cb_C.load_model('model/is_toxic_cb.bin')\n",
    "model_cb_D = cb.CatBoostClassifier()\n",
    "model_cb_D.load_model('model/is_fake_title_cb.bin')\n"
   ],
   "metadata": {
    "collapsed": false,
    "ExecuteTime": {
     "end_time": "2023-05-03T15:59:09.527778Z",
     "start_time": "2023-05-03T15:59:04.442380300Z"
    }
   }
  },
  {
   "cell_type": "code",
   "execution_count": 18,
   "outputs": [
    {
     "name": "stdout",
     "output_type": "stream",
     "text": [
      "Index(['Unnamed: 0', 'text', 'category', 'author', 'text_len'], dtype='object')\n",
      "The function is created successfully\n"
     ]
    },
    {
     "name": "stderr",
     "output_type": "stream",
     "text": [
      "converting documents to features: 100%|██████████| 32676/32676 [01:03<00:00, 516.19it/s]\n"
     ]
    }
   ],
   "source": [
    "\n",
    "print(test_data.columns)\n",
    "# Prepare test data for predictions\n",
    "X_test,y_test,X_test_ = prep_data(dataset)\n",
    "\n",
    "preds_xgb_A = model_xgb_A.predict(xgb.DMatrix(X_test))\n",
    "\n",
    "preds_xgb_B = model_xgb_B.predict(xgb.DMatrix(X_test))\n",
    "\n",
    "preds_xgb_C = model_xgb_C.predict(xgb.DMatrix(X_test))\n",
    "\n",
    "preds_xgb_D = model_xgb_D.predict(xgb.DMatrix(X_test))\n",
    "\n",
    "\n",
    "preds_cb_A = model_cb_A.predict(X_test)\n",
    "\n",
    "preds_cb_B = model_cb_B.predict(X_test)\n",
    "\n",
    "preds_cb_C = model_cb_C.predict(X_test)\n",
    "\n",
    "preds_cb_D = model_cb_D.predict(X_test)\n",
    "\n"
   ],
   "metadata": {
    "collapsed": false,
    "ExecuteTime": {
     "end_time": "2023-05-03T16:00:49.024787800Z",
     "start_time": "2023-05-03T15:59:10.774442500Z"
    }
   }
  },
  {
   "cell_type": "code",
   "execution_count": 19,
   "outputs": [],
   "source": [
    "\n",
    "# Combine predictions\n",
    "preds_A = np.concatenate([preds_xgb_A.reshape(-1, 1), preds_cb_A.reshape(-1, 1)], axis=1)\n",
    "preds_B = np.concatenate([preds_xgb_B.reshape(-1, 1), preds_cb_B.reshape(-1, 1)], axis=1)\n",
    "preds_C = np.concatenate([preds_xgb_C.reshape(-1, 1), preds_cb_C.reshape(-1, 1)], axis=1)\n",
    "preds_D = np.concatenate([preds_xgb_D.reshape(-1, 1), preds_cb_D.reshape(-1, 1)], axis=1)\n"
   ],
   "metadata": {
    "collapsed": false,
    "ExecuteTime": {
     "end_time": "2023-05-03T16:01:21.161539900Z",
     "start_time": "2023-05-03T16:01:21.112603200Z"
    }
   }
  },
  {
   "cell_type": "code",
   "execution_count": 20,
   "outputs": [],
   "source": [
    "trashold = 0.5\n",
    "def majority(predictions):\n",
    "    ensemble_preds = np.array(predictions).mean(axis=0)\n",
    "    ensemble_preds = np.round(ensemble_preds)\n",
    "    return ensemble_preds\n",
    "\n",
    "def whaited(predictions):\n",
    "    weights = [0.2, 0.3, 0.4, 0.1,0.2, 0.3, 0.4, 0.1]\n",
    "    ensemble_preds = np.average(predictions, axis=0, weights=weights)\n",
    "    ensemble_preds = np.round(ensemble_preds)\n",
    "    return ensemble_preds\n",
    "\n",
    "def soft(predictions):\n",
    "    ensemble_probs = np.average(predictions, axis=0)\n",
    "    ensemble_preds = np.argmax(ensemble_probs, axis=0)\n",
    "    return ensemble_preds\n",
    "\n",
    "def Stacked(predictions):\n",
    "    global trashold\n",
    "    ensemble_preds = np.average(predictions)\n",
    "    if ensemble_preds < trashold:\n",
    "        ensemble_preds =0\n",
    "    else :\n",
    "        ensemble_preds = 1\n",
    "    return ensemble_preds\n"
   ],
   "metadata": {
    "collapsed": false,
    "ExecuteTime": {
     "end_time": "2023-05-03T16:01:23.405673100Z",
     "start_time": "2023-05-03T16:01:23.382735100Z"
    }
   }
  },
  {
   "cell_type": "code",
   "execution_count": 31,
   "outputs": [],
   "source": [
    "def accuracy(y_true, y_pred):\n",
    "    \"\"\"\n",
    "    Calculates the accuracy of a binary classification model.\n",
    "\n",
    "    Parameters:\n",
    "    y_true (array-like): The true labels of the dataset.\n",
    "    y_pred (array-like): The predicted labels of the dataset.\n",
    "\n",
    "    Returns:\n",
    "    float: The accuracy of the model.\n",
    "    \"\"\"\n",
    "    correct = 0\n",
    "    for true, pred in zip(y_true, y_pred):\n",
    "        if true == pred:\n",
    "            correct += 1\n",
    "    return correct / len(y_true)\n",
    "\n",
    "def f1_score(precision, recall):\n",
    "    \"\"\"\n",
    "    Обчислює значення F1 Score на основі введених значень precision та recall.\n",
    "    \"\"\"\n",
    "    if precision == 0 or recall == 0:\n",
    "        return 0\n",
    "    else:\n",
    "        f1_score = 2 * (precision * recall) / (precision + recall)\n",
    "        return f1_score\n",
    "def true_positives(predictions, labels, positive_label):\n",
    "    \"\"\"\n",
    "    Обчислює кількість правильно класифікованих прикладів (true positives) на основі передбачень (predictions) та міток (labels) з використанням позитивного класу (positive_label).\n",
    "    \"\"\"\n",
    "    tp = 0\n",
    "    for pred, label in zip(predictions, labels):\n",
    "        if pred == positive_label and label == positive_label:\n",
    "            tp += 1\n",
    "    return tp\n",
    "\n",
    "def false_negatives(predictions, labels, positive_label):\n",
    "    \"\"\"\n",
    "    Обчислює кількість неправильно класифікованих прикладів (false negatives) на основі передбачень (predictions) та міток (labels) з використанням позитивного класу (positive_label).\n",
    "    \"\"\"\n",
    "    fn = 0\n",
    "    for pred, label in zip(predictions, labels):\n",
    "        if pred != positive_label and label == positive_label:\n",
    "            fn += 1\n",
    "    return fn\n",
    "def false_positives(predictions, labels, positive_label):\n",
    "    \"\"\"\n",
    "    Обчислює кількість неправильно класифікованих прикладів (false positives) на основі передбачень (predictions) та міток (labels) з використанням позитивного класу (positive_label).\n",
    "    \"\"\"\n",
    "    fp = 0\n",
    "    for pred, label in zip(predictions, labels):\n",
    "        if pred == positive_label and label != positive_label:\n",
    "            fp += 1\n",
    "    return fp\n",
    "def precision(true_positives, false_positives):\n",
    "    \"\"\"\n",
    "    Обчислює значення точності на основі введених значень true_positives та false_positives.\n",
    "    \"\"\"\n",
    "    if true_positives + false_positives == 0:\n",
    "        return 0\n",
    "    else:\n",
    "        precision = true_positives / (true_positives + false_positives)\n",
    "        return precision\n",
    "\n",
    "def recall(true_positives, false_negatives):\n",
    "    \"\"\"\n",
    "    Обчислює значення повноти на основі введених значень true_positives та false_negatives.\n",
    "    \"\"\"\n",
    "    if true_positives + false_negatives == 0:\n",
    "        return 0\n",
    "    else:\n",
    "        recall = true_positives / (true_positives + false_negatives)\n",
    "        return recall"
   ],
   "metadata": {
    "collapsed": false,
    "ExecuteTime": {
     "end_time": "2023-05-03T19:03:15.454510900Z",
     "start_time": "2023-05-03T19:03:15.423269Z"
    }
   }
  },
  {
   "cell_type": "code",
   "execution_count": 35,
   "outputs": [
    {
     "name": "stdout",
     "output_type": "stream",
     "text": [
      "Index(['trfl_xgb', 'trfl_cb', 'is_sus_xgb', 'is_sus_cb', 'is_toxic_xgb',\n",
      "       'is_toxic_cb', 'is_fake_title_xgb', 'is_fake_title_cb', 'test_data'],\n",
      "      dtype='object')\n"
     ]
    },
    {
     "name": "stderr",
     "output_type": "stream",
     "text": [
      "  0%|          | 0/32676 [00:00<?, ?it/s]C:\\Users\\stepa\\projects\\diplo\\venv\\lib\\site-packages\\numpy\\core\\fromnumeric.py:3432: RuntimeWarning: Mean of empty slice.\n",
      "  return _methods._mean(a, axis=axis, dtype=dtype,\n",
      "C:\\Users\\stepa\\projects\\diplo\\venv\\lib\\site-packages\\numpy\\core\\_methods.py:190: RuntimeWarning: invalid value encountered in double_scalars\n",
      "  ret = ret.dtype.type(ret / rcount)\n",
      "100%|██████████| 32676/32676 [00:35<00:00, 920.14it/s] \n"
     ]
    },
    {
     "name": "stdout",
     "output_type": "stream",
     "text": [
      "0.7933039539723344\n",
      "0.7892948953360265\n",
      "0.5125168319255723\n",
      "0.8122475211164157\n",
      "Empty DataFrame\n",
      "Columns: [trfl_xgb, trfl_cb, is_sus_xgb, is_sus_cb, is_toxic_xgb, is_toxic_cb, is_fake_title_xgb, is_fake_title_cb, test_data]\n",
      "Index: []\n",
      "my recall =  0.8011314721436478\n",
      "my precision =  0.8178793395693389\n",
      "my  f1 =  0.8094187816470443\n",
      "recall =  0.7171186520895452\n",
      "precision =  0.9512210433799988\n",
      "f1 =  0.8177451562415672\n"
     ]
    }
   ],
   "source": [
    "majority_acc_sum = []\n",
    "whaited_acc_sum = []\n",
    "soft_acc_sum = []\n",
    "my_acc_sum = []\n",
    "ensemble_preds = []\n",
    "avg = []\n",
    "\n",
    "\n",
    "#model_xgb_A = xgb.Booster()\n",
    "#model_xgb_A.load_model('model/trfl_xgb.bin')\n",
    "#model_xgb_B = xgb.Booster()\n",
    "#model_xgb_B.load_model('model/is_sus_xgb.bin')\n",
    "#model_xgb_C = xgb.Booster()\n",
    "#model_xgb_C.load_model('model/is_toxic_xgb.bin')\n",
    "#model_xgb_D = xgb.Booster()\n",
    "#model_xgb_D.load_model('model/is_fake_title_xgb.bin')\n",
    "#\n",
    "#\n",
    "#model_cb_A = cb.CatBoostClassifier()\n",
    "#model_cb_A.load_model('model/trfl_cb.bin')\n",
    "#model_cb_B = cb.CatBoostClassifier()\n",
    "#model_cb_B.load_model('model/is_sus_cb.bin')\n",
    "#model_cb_C = cb.CatBoostClassifier()\n",
    "#model_cb_C.load_model('model/is_toxic_cb.bin')\n",
    "#model_cb_D = cb.CatBoostClassifier()\n",
    "#model_cb_D.load_model('model/is_fake_title_cb.bin')\n",
    "#\n",
    "df = pd.DataFrame(columns=['trfl_xgb','trfl_cb','is_sus_xgb','is_sus_cb','is_toxic_xgb','is_toxic_cb','is_fake_title_xgb','is_fake_title_cb','test_data'])\n",
    "print(df.columns)\n",
    "for i in tqdm.tqdm(range(len(X_test))):\n",
    "    votes = np.concatenate([preds_A[i], preds_B[i], preds_C[i], preds_D[i]])\n",
    "    #print(X_test_.iloc[i], votes, y_test.iloc[i])\n",
    "    trashold = np.mean(avg)\n",
    "    majority_acc_sum.append(majority(votes))\n",
    "    whaited_acc_sum.append(whaited(votes))\n",
    "    soft_acc_sum.append(soft(votes))\n",
    "    my_acc_sum.append(Stacked(votes))\n",
    "    avg.append(np.average(votes))\n",
    "\n",
    "\n",
    "# Output predictions\n",
    "\n",
    "print(accuracy(majority_acc_sum,y_test))\n",
    "print(accuracy(whaited_acc_sum,y_test))\n",
    "print(accuracy(soft_acc_sum,y_test))\n",
    "print(accuracy(my_acc_sum,y_test))\n",
    "print(df.head())\n",
    "print('my recall = ', recall(true_positives(my_acc_sum,y_test,1),false_positives(my_acc_sum,y_test,1)))\n",
    "print('my precision = ', precision(true_positives(my_acc_sum,y_test,1),false_negatives(my_acc_sum,y_test,1)))\n",
    "print('my  '\n",
    "      'f1 = ', f1_score(precision(true_positives(my_acc_sum,y_test,1),false_negatives(my_acc_sum,y_test,1)),recall(true_positives(my_acc_sum,y_test,1),false_positives(my_acc_sum,y_test,1))))\n",
    "\n",
    "print('recall = ', recall(true_positives(majority_acc_sum,y_test,1),false_positives(majority_acc_sum,y_test,1)))\n",
    "print('precision = ', precision(true_positives(majority_acc_sum,y_test,1),false_negatives(majority_acc_sum,y_test,1)))\n",
    "print('f1 = ', f1_score(precision(true_positives(majority_acc_sum,y_test,1),false_negatives(majority_acc_sum,y_test,1)),recall(true_positives(majority_acc_sum,y_test,1),false_positives(majority_acc_sum,y_test,1))))"
   ],
   "metadata": {
    "collapsed": false,
    "ExecuteTime": {
     "end_time": "2023-05-03T19:13:21.872878Z",
     "start_time": "2023-05-03T19:12:46.177582800Z"
    }
   }
  },
  {
   "cell_type": "code",
   "execution_count": 57,
   "outputs": [
    {
     "name": "stdout",
     "output_type": "stream",
     "text": [
      "   trfl_xgb  trfl_cb  is_sus_xgb  is_sus_cb  is_toxic_xgb  is_toxic_cb  \\\n",
      "0  0.998402      1.0    0.807161        1.0      0.999548          1.0   \n",
      "\n",
      "   is_fake_title_xgb  is_fake_title_cb  \n",
      "0           0.893118               0.0  \n"
     ]
    },
    {
     "data": {
      "text/plain": "<AxesSubplot:>"
     },
     "execution_count": 57,
     "metadata": {},
     "output_type": "execute_result"
    },
    {
     "data": {
      "text/plain": "<Figure size 432x288 with 1 Axes>",
      "image/png": "[encoded data removed]"
     },
     "metadata": {},
     "output_type": "display_data"
    }
   ],
   "source": [
    "import  seaborn as sns\n",
    "df = pd.DataFrame(columns=['trfl_xgb','trfl_cb','is_sus_xgb','is_sus_cb','is_toxic_xgb','is_toxic_cb','is_fake_title_xgb','is_fake_title_cb'])\n",
    "df.loc[len(df.index)] = [0.9984023  ,1.       ,  0.80716062 ,1.      ,   0.99954754 ,1.,\n",
    " 0.89311844, 0.        ]\n",
    "print(df)\n",
    "sums = df.sum()\n",
    "\n",
    "# plot sums\n",
    "sns.barplot(y=sums.index, x=sums.values, orient='h')"
   ],
   "metadata": {
    "collapsed": false,
    "ExecuteTime": {
     "start_time": "2023-04-18T00:45:23.869679Z",
     "end_time": "2023-04-18T00:45:24.291812Z"
    }
   }
  },
  {
   "cell_type": "code",
   "execution_count": 17,
   "outputs": [
    {
     "data": {
      "text/plain": "0.5806847534480295"
     },
     "execution_count": 17,
     "metadata": {},
     "output_type": "execute_result"
    },
    {
     "data": {
      "text/plain": "<Figure size 432x288 with 1 Axes>",
      "image/png": "[encoded data removed]"
     },
     "metadata": {},
     "output_type": "display_data"
    }
   ],
   "source": [
    "import seaborn as sns\n",
    "sns.histplot(avg)\n",
    "\n",
    "np.mean(avg)"
   ],
   "metadata": {
    "collapsed": false,
    "ExecuteTime": {
     "start_time": "2023-04-17T23:32:31.592377Z",
     "end_time": "2023-04-17T23:32:31.976723Z"
    }
   }
  },
  {
   "cell_type": "code",
   "execution_count": 138,
   "outputs": [],
   "source": [],
   "metadata": {
    "collapsed": false,
    "ExecuteTime": {
     "start_time": "2023-04-12T22:07:35.357562Z",
     "end_time": "2023-04-12T22:07:35.360562Z"
    }
   }
  },
  {
   "cell_type": "code",
   "execution_count": 138,
   "outputs": [],
   "source": [
    "\n"
   ],
   "metadata": {
    "collapsed": false,
    "ExecuteTime": {
     "start_time": "2023-04-12T22:07:35.361158Z",
     "end_time": "2023-04-12T22:07:35.375349Z"
    }
   }
  },
  {
   "cell_type": "code",
   "execution_count": 139,
   "outputs": [
    {
     "ename": "KeyboardInterrupt",
     "evalue": "",
     "output_type": "error",
     "traceback": [
      "\u001B[0;31m---------------------------------------------------------------------------\u001B[0m",
      "\u001B[0;31mKeyboardInterrupt\u001B[0m                         Traceback (most recent call last)",
      "Input \u001B[0;32mIn [139]\u001B[0m, in \u001B[0;36m<module>\u001B[0;34m\u001B[0m\n\u001B[0;32m----> 1\u001B[0m \u001B[43msns\u001B[49m\u001B[38;5;241;43m.\u001B[39;49m\u001B[43mhistplot\u001B[49m\u001B[43m(\u001B[49m\u001B[43mX_test\u001B[49m\u001B[43m)\u001B[49m\n",
      "File \u001B[0;32m~/.local/lib/python3.8/site-packages/seaborn/distributions.py:1462\u001B[0m, in \u001B[0;36mhistplot\u001B[0;34m(data, x, y, hue, weights, stat, bins, binwidth, binrange, discrete, cumulative, common_bins, common_norm, multiple, element, fill, shrink, kde, kde_kws, line_kws, thresh, pthresh, pmax, cbar, cbar_ax, cbar_kws, palette, hue_order, hue_norm, color, log_scale, legend, ax, **kwargs)\u001B[0m\n\u001B[1;32m   1451\u001B[0m estimate_kws \u001B[38;5;241m=\u001B[39m \u001B[38;5;28mdict\u001B[39m(\n\u001B[1;32m   1452\u001B[0m     stat\u001B[38;5;241m=\u001B[39mstat,\n\u001B[1;32m   1453\u001B[0m     bins\u001B[38;5;241m=\u001B[39mbins,\n\u001B[0;32m   (...)\u001B[0m\n\u001B[1;32m   1457\u001B[0m     cumulative\u001B[38;5;241m=\u001B[39mcumulative,\n\u001B[1;32m   1458\u001B[0m )\n\u001B[1;32m   1460\u001B[0m \u001B[38;5;28;01mif\u001B[39;00m p\u001B[38;5;241m.\u001B[39munivariate:\n\u001B[0;32m-> 1462\u001B[0m     \u001B[43mp\u001B[49m\u001B[38;5;241;43m.\u001B[39;49m\u001B[43mplot_univariate_histogram\u001B[49m\u001B[43m(\u001B[49m\n\u001B[1;32m   1463\u001B[0m \u001B[43m        \u001B[49m\u001B[43mmultiple\u001B[49m\u001B[38;5;241;43m=\u001B[39;49m\u001B[43mmultiple\u001B[49m\u001B[43m,\u001B[49m\n\u001B[1;32m   1464\u001B[0m \u001B[43m        \u001B[49m\u001B[43melement\u001B[49m\u001B[38;5;241;43m=\u001B[39;49m\u001B[43melement\u001B[49m\u001B[43m,\u001B[49m\n\u001B[1;32m   1465\u001B[0m \u001B[43m        \u001B[49m\u001B[43mfill\u001B[49m\u001B[38;5;241;43m=\u001B[39;49m\u001B[43mfill\u001B[49m\u001B[43m,\u001B[49m\n\u001B[1;32m   1466\u001B[0m \u001B[43m        \u001B[49m\u001B[43mshrink\u001B[49m\u001B[38;5;241;43m=\u001B[39;49m\u001B[43mshrink\u001B[49m\u001B[43m,\u001B[49m\n\u001B[1;32m   1467\u001B[0m \u001B[43m        \u001B[49m\u001B[43mcommon_norm\u001B[49m\u001B[38;5;241;43m=\u001B[39;49m\u001B[43mcommon_norm\u001B[49m\u001B[43m,\u001B[49m\n\u001B[1;32m   1468\u001B[0m \u001B[43m        \u001B[49m\u001B[43mcommon_bins\u001B[49m\u001B[38;5;241;43m=\u001B[39;49m\u001B[43mcommon_bins\u001B[49m\u001B[43m,\u001B[49m\n\u001B[1;32m   1469\u001B[0m \u001B[43m        \u001B[49m\u001B[43mkde\u001B[49m\u001B[38;5;241;43m=\u001B[39;49m\u001B[43mkde\u001B[49m\u001B[43m,\u001B[49m\n\u001B[1;32m   1470\u001B[0m \u001B[43m        \u001B[49m\u001B[43mkde_kws\u001B[49m\u001B[38;5;241;43m=\u001B[39;49m\u001B[43mkde_kws\u001B[49m\u001B[43m,\u001B[49m\n\u001B[1;32m   1471\u001B[0m \u001B[43m        \u001B[49m\u001B[43mcolor\u001B[49m\u001B[38;5;241;43m=\u001B[39;49m\u001B[43mcolor\u001B[49m\u001B[43m,\u001B[49m\n\u001B[1;32m   1472\u001B[0m \u001B[43m        \u001B[49m\u001B[43mlegend\u001B[49m\u001B[38;5;241;43m=\u001B[39;49m\u001B[43mlegend\u001B[49m\u001B[43m,\u001B[49m\n\u001B[1;32m   1473\u001B[0m \u001B[43m        \u001B[49m\u001B[43mestimate_kws\u001B[49m\u001B[38;5;241;43m=\u001B[39;49m\u001B[43mestimate_kws\u001B[49m\u001B[43m,\u001B[49m\n\u001B[1;32m   1474\u001B[0m \u001B[43m        \u001B[49m\u001B[43mline_kws\u001B[49m\u001B[38;5;241;43m=\u001B[39;49m\u001B[43mline_kws\u001B[49m\u001B[43m,\u001B[49m\n\u001B[1;32m   1475\u001B[0m \u001B[43m        \u001B[49m\u001B[38;5;241;43m*\u001B[39;49m\u001B[38;5;241;43m*\u001B[39;49m\u001B[43mkwargs\u001B[49m\u001B[43m,\u001B[49m\n\u001B[1;32m   1476\u001B[0m \u001B[43m    \u001B[49m\u001B[43m)\u001B[49m\n\u001B[1;32m   1478\u001B[0m \u001B[38;5;28;01melse\u001B[39;00m:\n\u001B[1;32m   1480\u001B[0m     p\u001B[38;5;241m.\u001B[39mplot_bivariate_histogram(\n\u001B[1;32m   1481\u001B[0m         common_bins\u001B[38;5;241m=\u001B[39mcommon_bins,\n\u001B[1;32m   1482\u001B[0m         common_norm\u001B[38;5;241m=\u001B[39mcommon_norm,\n\u001B[0;32m   (...)\u001B[0m\n\u001B[1;32m   1492\u001B[0m         \u001B[38;5;241m*\u001B[39m\u001B[38;5;241m*\u001B[39mkwargs,\n\u001B[1;32m   1493\u001B[0m     )\n",
      "File \u001B[0;32m~/.local/lib/python3.8/site-packages/seaborn/distributions.py:565\u001B[0m, in \u001B[0;36m_DistributionPlotter.plot_univariate_histogram\u001B[0;34m(self, multiple, element, fill, common_norm, common_bins, shrink, kde, kde_kws, color, legend, line_kws, estimate_kws, **plot_kws)\u001B[0m\n\u001B[1;32m    560\u001B[0m \u001B[38;5;28;01mif\u001B[39;00m element \u001B[38;5;241m==\u001B[39m \u001B[38;5;124m\"\u001B[39m\u001B[38;5;124mbars\u001B[39m\u001B[38;5;124m\"\u001B[39m:\n\u001B[1;32m    561\u001B[0m \n\u001B[1;32m    562\u001B[0m     \u001B[38;5;66;03m# Use matplotlib bar plotting\u001B[39;00m\n\u001B[1;32m    564\u001B[0m     plot_func \u001B[38;5;241m=\u001B[39m ax\u001B[38;5;241m.\u001B[39mbar \u001B[38;5;28;01mif\u001B[39;00m \u001B[38;5;28mself\u001B[39m\u001B[38;5;241m.\u001B[39mdata_variable \u001B[38;5;241m==\u001B[39m \u001B[38;5;124m\"\u001B[39m\u001B[38;5;124mx\u001B[39m\u001B[38;5;124m\"\u001B[39m \u001B[38;5;28;01melse\u001B[39;00m ax\u001B[38;5;241m.\u001B[39mbarh\n\u001B[0;32m--> 565\u001B[0m     artists \u001B[38;5;241m=\u001B[39m \u001B[43mplot_func\u001B[49m\u001B[43m(\u001B[49m\n\u001B[1;32m    566\u001B[0m \u001B[43m        \u001B[49m\u001B[43mhist\u001B[49m\u001B[43m[\u001B[49m\u001B[38;5;124;43m\"\u001B[39;49m\u001B[38;5;124;43medges\u001B[39;49m\u001B[38;5;124;43m\"\u001B[39;49m\u001B[43m]\u001B[49m\u001B[43m,\u001B[49m\n\u001B[1;32m    567\u001B[0m \u001B[43m        \u001B[49m\u001B[43mhist\u001B[49m\u001B[43m[\u001B[49m\u001B[38;5;124;43m\"\u001B[39;49m\u001B[38;5;124;43mheights\u001B[39;49m\u001B[38;5;124;43m\"\u001B[39;49m\u001B[43m]\u001B[49m\u001B[43m \u001B[49m\u001B[38;5;241;43m-\u001B[39;49m\u001B[43m \u001B[49m\u001B[43mbottom\u001B[49m\u001B[43m,\u001B[49m\n\u001B[1;32m    568\u001B[0m \u001B[43m        \u001B[49m\u001B[43mhist\u001B[49m\u001B[43m[\u001B[49m\u001B[38;5;124;43m\"\u001B[39;49m\u001B[38;5;124;43mwidths\u001B[39;49m\u001B[38;5;124;43m\"\u001B[39;49m\u001B[43m]\u001B[49m\u001B[43m,\u001B[49m\n\u001B[1;32m    569\u001B[0m \u001B[43m        \u001B[49m\u001B[43mbottom\u001B[49m\u001B[43m,\u001B[49m\n\u001B[1;32m    570\u001B[0m \u001B[43m        \u001B[49m\u001B[43malign\u001B[49m\u001B[38;5;241;43m=\u001B[39;49m\u001B[38;5;124;43m\"\u001B[39;49m\u001B[38;5;124;43medge\u001B[39;49m\u001B[38;5;124;43m\"\u001B[39;49m\u001B[43m,\u001B[49m\n\u001B[1;32m    571\u001B[0m \u001B[43m        \u001B[49m\u001B[38;5;241;43m*\u001B[39;49m\u001B[38;5;241;43m*\u001B[39;49m\u001B[43martist_kws\u001B[49m\u001B[43m,\u001B[49m\n\u001B[1;32m    572\u001B[0m \u001B[43m    \u001B[49m\u001B[43m)\u001B[49m\n\u001B[1;32m    573\u001B[0m     \u001B[38;5;28;01mfor\u001B[39;00m bar \u001B[38;5;129;01min\u001B[39;00m artists:\n\u001B[1;32m    574\u001B[0m         \u001B[38;5;28;01mif\u001B[39;00m \u001B[38;5;28mself\u001B[39m\u001B[38;5;241m.\u001B[39mdata_variable \u001B[38;5;241m==\u001B[39m \u001B[38;5;124m\"\u001B[39m\u001B[38;5;124mx\u001B[39m\u001B[38;5;124m\"\u001B[39m:\n",
      "File \u001B[0;32m~/.local/lib/python3.8/site-packages/matplotlib/__init__.py:1412\u001B[0m, in \u001B[0;36m_preprocess_data.<locals>.inner\u001B[0;34m(ax, data, *args, **kwargs)\u001B[0m\n\u001B[1;32m   1409\u001B[0m \u001B[38;5;129m@functools\u001B[39m\u001B[38;5;241m.\u001B[39mwraps(func)\n\u001B[1;32m   1410\u001B[0m \u001B[38;5;28;01mdef\u001B[39;00m \u001B[38;5;21minner\u001B[39m(ax, \u001B[38;5;241m*\u001B[39margs, data\u001B[38;5;241m=\u001B[39m\u001B[38;5;28;01mNone\u001B[39;00m, \u001B[38;5;241m*\u001B[39m\u001B[38;5;241m*\u001B[39mkwargs):\n\u001B[1;32m   1411\u001B[0m     \u001B[38;5;28;01mif\u001B[39;00m data \u001B[38;5;129;01mis\u001B[39;00m \u001B[38;5;28;01mNone\u001B[39;00m:\n\u001B[0;32m-> 1412\u001B[0m         \u001B[38;5;28;01mreturn\u001B[39;00m \u001B[43mfunc\u001B[49m\u001B[43m(\u001B[49m\u001B[43max\u001B[49m\u001B[43m,\u001B[49m\u001B[43m \u001B[49m\u001B[38;5;241;43m*\u001B[39;49m\u001B[38;5;28;43mmap\u001B[39;49m\u001B[43m(\u001B[49m\u001B[43msanitize_sequence\u001B[49m\u001B[43m,\u001B[49m\u001B[43m \u001B[49m\u001B[43margs\u001B[49m\u001B[43m)\u001B[49m\u001B[43m,\u001B[49m\u001B[43m \u001B[49m\u001B[38;5;241;43m*\u001B[39;49m\u001B[38;5;241;43m*\u001B[39;49m\u001B[43mkwargs\u001B[49m\u001B[43m)\u001B[49m\n\u001B[1;32m   1414\u001B[0m     bound \u001B[38;5;241m=\u001B[39m new_sig\u001B[38;5;241m.\u001B[39mbind(ax, \u001B[38;5;241m*\u001B[39margs, \u001B[38;5;241m*\u001B[39m\u001B[38;5;241m*\u001B[39mkwargs)\n\u001B[1;32m   1415\u001B[0m     auto_label \u001B[38;5;241m=\u001B[39m (bound\u001B[38;5;241m.\u001B[39marguments\u001B[38;5;241m.\u001B[39mget(label_namer)\n\u001B[1;32m   1416\u001B[0m                   \u001B[38;5;129;01mor\u001B[39;00m bound\u001B[38;5;241m.\u001B[39mkwargs\u001B[38;5;241m.\u001B[39mget(label_namer))\n",
      "File \u001B[0;32m~/.local/lib/python3.8/site-packages/matplotlib/axes/_axes.py:2395\u001B[0m, in \u001B[0;36mAxes.bar\u001B[0;34m(self, x, height, width, bottom, align, **kwargs)\u001B[0m\n\u001B[1;32m   2392\u001B[0m args \u001B[38;5;241m=\u001B[39m \u001B[38;5;28mzip\u001B[39m(left, bottom, width, height, color, edgecolor, linewidth,\n\u001B[1;32m   2393\u001B[0m            hatch)\n\u001B[1;32m   2394\u001B[0m \u001B[38;5;28;01mfor\u001B[39;00m l, b, w, h, c, e, lw, htch \u001B[38;5;129;01min\u001B[39;00m args:\n\u001B[0;32m-> 2395\u001B[0m     r \u001B[38;5;241m=\u001B[39m \u001B[43mmpatches\u001B[49m\u001B[38;5;241;43m.\u001B[39;49m\u001B[43mRectangle\u001B[49m\u001B[43m(\u001B[49m\n\u001B[1;32m   2396\u001B[0m \u001B[43m        \u001B[49m\u001B[43mxy\u001B[49m\u001B[38;5;241;43m=\u001B[39;49m\u001B[43m(\u001B[49m\u001B[43ml\u001B[49m\u001B[43m,\u001B[49m\u001B[43m \u001B[49m\u001B[43mb\u001B[49m\u001B[43m)\u001B[49m\u001B[43m,\u001B[49m\u001B[43m \u001B[49m\u001B[43mwidth\u001B[49m\u001B[38;5;241;43m=\u001B[39;49m\u001B[43mw\u001B[49m\u001B[43m,\u001B[49m\u001B[43m \u001B[49m\u001B[43mheight\u001B[49m\u001B[38;5;241;43m=\u001B[39;49m\u001B[43mh\u001B[49m\u001B[43m,\u001B[49m\n\u001B[1;32m   2397\u001B[0m \u001B[43m        \u001B[49m\u001B[43mfacecolor\u001B[49m\u001B[38;5;241;43m=\u001B[39;49m\u001B[43mc\u001B[49m\u001B[43m,\u001B[49m\n\u001B[1;32m   2398\u001B[0m \u001B[43m        \u001B[49m\u001B[43medgecolor\u001B[49m\u001B[38;5;241;43m=\u001B[39;49m\u001B[43me\u001B[49m\u001B[43m,\u001B[49m\n\u001B[1;32m   2399\u001B[0m \u001B[43m        \u001B[49m\u001B[43mlinewidth\u001B[49m\u001B[38;5;241;43m=\u001B[39;49m\u001B[43mlw\u001B[49m\u001B[43m,\u001B[49m\n\u001B[1;32m   2400\u001B[0m \u001B[43m        \u001B[49m\u001B[43mlabel\u001B[49m\u001B[38;5;241;43m=\u001B[39;49m\u001B[38;5;124;43m'\u001B[39;49m\u001B[38;5;124;43m_nolegend_\u001B[39;49m\u001B[38;5;124;43m'\u001B[39;49m\u001B[43m,\u001B[49m\n\u001B[1;32m   2401\u001B[0m \u001B[43m        \u001B[49m\u001B[43mhatch\u001B[49m\u001B[38;5;241;43m=\u001B[39;49m\u001B[43mhtch\u001B[49m\u001B[43m,\u001B[49m\n\u001B[1;32m   2402\u001B[0m \u001B[43m        \u001B[49m\u001B[43m)\u001B[49m\n\u001B[1;32m   2403\u001B[0m     r\u001B[38;5;241m.\u001B[39mupdate(kwargs)\n\u001B[1;32m   2404\u001B[0m     r\u001B[38;5;241m.\u001B[39mget_path()\u001B[38;5;241m.\u001B[39m_interpolation_steps \u001B[38;5;241m=\u001B[39m \u001B[38;5;241m100\u001B[39m\n",
      "File \u001B[0;32m~/.local/lib/python3.8/site-packages/matplotlib/patches.py:727\u001B[0m, in \u001B[0;36mRectangle.__init__\u001B[0;34m(self, xy, width, height, angle, **kwargs)\u001B[0m\n\u001B[1;32m    708\u001B[0m \u001B[38;5;129m@docstring\u001B[39m\u001B[38;5;241m.\u001B[39mdedent_interpd\n\u001B[1;32m    709\u001B[0m \u001B[38;5;28;01mdef\u001B[39;00m \u001B[38;5;21m__init__\u001B[39m(\u001B[38;5;28mself\u001B[39m, xy, width, height, angle\u001B[38;5;241m=\u001B[39m\u001B[38;5;241m0.0\u001B[39m, \u001B[38;5;241m*\u001B[39m\u001B[38;5;241m*\u001B[39mkwargs):\n\u001B[1;32m    710\u001B[0m     \u001B[38;5;124;03m\"\"\"\u001B[39;00m\n\u001B[1;32m    711\u001B[0m \u001B[38;5;124;03m    Parameters\u001B[39;00m\n\u001B[1;32m    712\u001B[0m \u001B[38;5;124;03m    ----------\u001B[39;00m\n\u001B[0;32m   (...)\u001B[0m\n\u001B[1;32m    725\u001B[0m \u001B[38;5;124;03m        %(Patch:kwdoc)s\u001B[39;00m\n\u001B[1;32m    726\u001B[0m \u001B[38;5;124;03m    \"\"\"\u001B[39;00m\n\u001B[0;32m--> 727\u001B[0m     \u001B[38;5;28;43msuper\u001B[39;49m\u001B[43m(\u001B[49m\u001B[43m)\u001B[49m\u001B[38;5;241;43m.\u001B[39;49m\u001B[38;5;21;43m__init__\u001B[39;49m\u001B[43m(\u001B[49m\u001B[38;5;241;43m*\u001B[39;49m\u001B[38;5;241;43m*\u001B[39;49m\u001B[43mkwargs\u001B[49m\u001B[43m)\u001B[49m\n\u001B[1;32m    728\u001B[0m     \u001B[38;5;28mself\u001B[39m\u001B[38;5;241m.\u001B[39m_x0 \u001B[38;5;241m=\u001B[39m xy[\u001B[38;5;241m0\u001B[39m]\n\u001B[1;32m    729\u001B[0m     \u001B[38;5;28mself\u001B[39m\u001B[38;5;241m.\u001B[39m_y0 \u001B[38;5;241m=\u001B[39m xy[\u001B[38;5;241m1\u001B[39m]\n",
      "File \u001B[0;32m~/.local/lib/python3.8/site-packages/matplotlib/patches.py:98\u001B[0m, in \u001B[0;36mPatch.__init__\u001B[0;34m(self, edgecolor, facecolor, color, linewidth, linestyle, antialiased, hatch, fill, capstyle, joinstyle, **kwargs)\u001B[0m\n\u001B[1;32m     96\u001B[0m     \u001B[38;5;28mself\u001B[39m\u001B[38;5;241m.\u001B[39mset_color(color)\n\u001B[1;32m     97\u001B[0m \u001B[38;5;28;01melse\u001B[39;00m:\n\u001B[0;32m---> 98\u001B[0m     \u001B[38;5;28;43mself\u001B[39;49m\u001B[38;5;241;43m.\u001B[39;49m\u001B[43mset_edgecolor\u001B[49m\u001B[43m(\u001B[49m\u001B[43medgecolor\u001B[49m\u001B[43m)\u001B[49m\n\u001B[1;32m     99\u001B[0m     \u001B[38;5;28mself\u001B[39m\u001B[38;5;241m.\u001B[39mset_facecolor(facecolor)\n\u001B[1;32m    100\u001B[0m \u001B[38;5;66;03m# unscaled dashes.  Needed to scale dash patterns by lw\u001B[39;00m\n",
      "File \u001B[0;32m~/.local/lib/python3.8/site-packages/matplotlib/patches.py:355\u001B[0m, in \u001B[0;36mPatch.set_edgecolor\u001B[0;34m(self, color)\u001B[0m\n\u001B[1;32m    347\u001B[0m \u001B[38;5;124;03m\"\"\"\u001B[39;00m\n\u001B[1;32m    348\u001B[0m \u001B[38;5;124;03mSet the patch edge color.\u001B[39;00m\n\u001B[1;32m    349\u001B[0m \n\u001B[0;32m   (...)\u001B[0m\n\u001B[1;32m    352\u001B[0m \u001B[38;5;124;03mcolor : color or None\u001B[39;00m\n\u001B[1;32m    353\u001B[0m \u001B[38;5;124;03m\"\"\"\u001B[39;00m\n\u001B[1;32m    354\u001B[0m \u001B[38;5;28mself\u001B[39m\u001B[38;5;241m.\u001B[39m_original_edgecolor \u001B[38;5;241m=\u001B[39m color\n\u001B[0;32m--> 355\u001B[0m \u001B[38;5;28;43mself\u001B[39;49m\u001B[38;5;241;43m.\u001B[39;49m\u001B[43m_set_edgecolor\u001B[49m\u001B[43m(\u001B[49m\u001B[43mcolor\u001B[49m\u001B[43m)\u001B[49m\n",
      "\u001B[0;31mKeyboardInterrupt\u001B[0m: "
     ]
    },
    {
     "data": {
      "text/plain": "<Figure size 432x288 with 1 Axes>",
      "image/png": "[encoded data removed]"
     },
     "metadata": {
      "needs_background": "light"
     },
     "output_type": "display_data"
    }
   ],
   "source": [
    "sns.histplot(X_test)"
   ],
   "metadata": {
    "collapsed": false,
    "ExecuteTime": {
     "start_time": "2023-04-12T21:43:52.485817Z",
     "end_time": "2023-04-12T21:43:52.617972Z"
    }
   }
  },
  {
   "cell_type": "code",
   "execution_count": 90,
   "outputs": [
    {
     "data": {
      "text/plain": "<AxesSubplot:ylabel='Count'>"
     },
     "execution_count": 90,
     "metadata": {},
     "output_type": "execute_result"
    },
    {
     "data": {
      "text/plain": "<Figure size 432x288 with 1 Axes>",
      "image/png": "[encoded data removed]"
     },
     "metadata": {
      "needs_background": "light"
     },
     "output_type": "display_data"
    }
   ],
   "source": [
    "sns.histplot(X_train)"
   ],
   "metadata": {
    "collapsed": false,
    "ExecuteTime": {
     "start_time": "2023-04-12T21:43:16.902847Z",
     "end_time": "2023-04-12T21:43:17.147071Z"
    }
   }
  },
  {
   "cell_type": "code",
   "execution_count": null,
   "outputs": [],
   "source": [
    "appeared refusal concede late last night (via John Podesta), followed Trump’s victory speech, referred concession call opponent, Hillary Clinton finally issued concession speech around 11:30 Eastern time. tone clearly bitter, though cloaked hopeful language continued efforts. questions whether Donald Trump would wherewithal admit defeat accept election results, turned Hillary apparent difficulty giving up. SEE: Something Wrong Hillary? Concede Tonight – Refuses Speak Crowd – Health Episode? reality set in, went stage, albeit hour scheduled so, admit loss. played might largest enthusiastic crowd date 2016 campaign trail. Partial transcript: Thank much here. love all, too. Last night congratulated Donald Trump offered work behalf country. hope successful president Americans. outcome wanted worked hard for, I’m sorry win election values share vision hold country. feel pride gratitude wonderful campaign built together. vast diverse creative unruly energized campaign. represent best America candidate one greatest honors life. know disappointed feel feel it, too. tens millions Americans invested hopes dreams effort. painful, long time. want remember this. campaign never one person, even one election. country love building America hopeful, inclusive, big-hearted. seen nation deeply divided thought. still believe America, always will. do, must accept result look future. Donald Trump going president. owe open mind chance lead. constitutional democracy enshrines peaceful transfer power. […] anyone sent contributions, even small $5, kept us going, thank you. us, young people particular, hope hear — have, Tim said, spent entire life fighting believe in. I’ve successes setbacks sometimes painful ones. Many beginning professional, public, political careers — successes setbacks too. loss hurts, please never stop believing fighting what’s right worth it. […] need — need keep fights rest lives. women, especially young women, put faith campaign me: want know nothing made prouder champion. Now, know still shattered highest hardest glass ceiling, someday someone — hopefully sooner might think right now. [Cheers applause] little girls watching this, never doubt valuable powerful deserving every chance opportunity world pursue achieve dreams. [Cheers applause] Hillary Finally Concedes: “This Painful Long Time” [0.50082976 1.         0.26190835 0.         0.80097264 1.\n",
    " 0.8566556  1.        ] 0"
   ],
   "metadata": {
    "collapsed": false
   }
  },
  {
   "cell_type": "code",
   "execution_count": null,
   "outputs": [],
   "source": [
    "in: Government Petitions Special Interests rigged investigation new batch Hillary Clinton-related emails got epically rigged. Well, folks research Zero Hedge completely outdone discovery never reach mainstream. “Ironically”, Peter Kadzik proven “impartiality” multiple WikiLeaks emails including newly released bombshell Kadzik provides helpful “heads up” Hillary’s email server investigation. Kadzik emailed John Podesta (via gmail) May 19, 2015: HJC oversight hearing today head Civil Division testify. Likely get questions State Department emails. Another filing FOIA case went last night go indicates awhile (2016) State Department posts emails. Perhaps Mr. Kadzik could explain readers – American public – particular message delivered via private, gmail account rather official DOJ email account? Go r ead article learn Kadzik’s background It’s positively incestuous ties Clintons Podestas. Here’s do. Contact Department Justice. civil screaming, swearing, threatening never accomplished anything. Let know want see independent investigation emails Clinton Foundation. Let know also contacting local media make aware conflict interest. contact information DoJ. Make phone calls send emails. Department Comment Line: 202-353-1555 Department Justice Main Switchboard: 202-514-2000 Executive Office United States Attorneys Main Line – (202) 514-2000 DoJ Criminal Investigation email address: [email protected] Feel free use email template: RE: Peter Kadzik learned close connections Peter Kadzik Hillary Clinton, appalled would charge new investigation emails. way reflect well DoJ. It’s insult American people blatant collusion allowed presented “justice.” especially appalling considering email sent Podesta last investigation subject line “Heads up” notifying local media debacle sharing everywhere reach via social media. People learning collusion rapidly – might want read article published Zero Hedge put front page Drudge Report – keeping mind Drudge gets millions page views per day one biggest websites America. American people don’t trust government anymore, actions like this, putting John Podesta’s close friend charge investigation eyes on, like spitting face every person America hopes justice indeed blind, even recipient Hillary Rodham Clinton. Please right thing. investigation needs independent anyone ties Clintons figure campaign. Sincerely, use social media, get it. Share article one Zero Hedge shut mission accomplished. don’t use social media, forward emails everyone address book. you’re computer reading this, I’m pretty sure email too. Contact local media letters editor, comments websites, phone calls anyone listen. sit nothing, get nothing. time stand corruption. time voice heard. Make count. Article first posted DaisyLuther.com Submit review Rigged Investigation Hillary Clinton [0.99963582 1.         0.01031697 0.         0.63430244 1.\n",
    " 0.98267382 1.        ] 1"
   ],
   "metadata": {
    "collapsed": false
   }
  },
  {
   "cell_type": "code",
   "execution_count": 58,
   "outputs": [
    {
     "ename": "SyntaxError",
     "evalue": "invalid syntax (953920514.py, line 1)",
     "output_type": "error",
     "traceback": [
      "\u001B[0;36m  Input \u001B[0;32mIn [58]\u001B[0;36m\u001B[0m\n\u001B[0;31m    \"\"16-Years-Old smdh. He’s Child. Andrew Anglin October 27, 2016 Click enlarge I’ve said long time now, appears Neo-Nazi satirists infiltrated Jewish media using positions mock insane depths Jew lies sunk. Seriously, running Guardian, would absolutely run cover: picture 40-something Negro crying, headline he’s child caption saying he’s 16-years-old. going push this, would print lyrics Eric Clapton’s “Tears Heaven” sidebar. predicting going use song video Calais migrants go French Nazis burned camp. rather, burned camp French Nazis told leave “their tradition” IRL quote French official burn homes leave them. Would know name saw heaven? Would saw heaven? must strong‘Cause know don’t belong heaven Would hold hand saw heaven? Would help stand saw heaven? I’ll find way night day‘Cause know can’t stay heaven Time bring Time bend knees Time break heart begging please, begging please Beyond door There’s peace I’m sure know there’ll Tears heaven Would know name saw heaven? Would saw heaven? must strong‘Cause know don’t belong heaven 16-Years-Old smdh. He’s Child. м 1\"\"\"\u001B[0m\n\u001B[0m      ^\u001B[0m\n\u001B[0;31mSyntaxError\u001B[0m\u001B[0;31m:\u001B[0m invalid syntax\n"
     ]
    }
   ],
   "source": [
    "\"\"\":16-Years-Old smdh. He’s Child. Andrew Anglin October 27, 2016 Click enlarge I’ve said long time now, appears Neo-Nazi satirists infiltrated Jewish media using positions mock insane depths Jew lies sunk. Seriously, running Guardian, would absolutely run cover: picture 40-something Negro crying, headline he’s child caption saying he’s 16-years-old. going push this, would print lyrics Eric Clapton’s “Tears Heaven” sidebar. predicting going use song video Calais migrants go French Nazis burned camp. rather, burned camp French Nazis told leave “their tradition” IRL quote French official burn homes leave them. Would know name saw heaven? Would saw heaven? must strong‘Cause know don’t belong heaven Would hold hand saw heaven? Would help stand saw heaven? I’ll find way night day‘Cause know can’t stay heaven Time bring Time bend knees Time break heart begging please, begging please Beyond door There’s peace I’m sure know there’ll Tears heaven Would know name saw heaven? Would saw heaven? must strong‘Cause know don’t belong heaven 16-Years-Old smdh. He’s Child. м 1\"\"\"\n",
    "@user so you're saying women who got the healthcare they needed is comparable to people killed in #orlando &amp; #sandyhook   [9.85958993e-01 1.00000000e+00 3.15010780e-03 0.00000000e+00\n",
    " 3.40003811e-04 0.00000000e+00 2.01754317e-01 0.00000000e+00] 0\n",
    "âthe truth is rarely pure and never simple.â #friend #friends #fun #funny #love #instagood #friendship #pay #chill   #cute #photooftâ¦ [8.68266225e-01 1.00000000e+00 2.98909068e-01 0.00000000e+00\n",
    " 2.29828176e-04 0.00000000e+00 9.92846549e-01 1.00000000e+00] 0\n",
    "@STACCS_WNT_FOLD you tell me, coon. [0.93613917 1.         0.01052785 0.         0.9958455  1.\n",
    " 0.98552632 1.        ] 1"
   ],
   "metadata": {
    "collapsed": false
   }
  },
  {
   "cell_type": "code",
   "execution_count": 50,
   "outputs": [
    {
     "ename": "ValueError",
     "evalue": "cannot set a row with mismatched columns",
     "output_type": "error",
     "traceback": [
      "\u001B[0;31m---------------------------------------------------------------------------\u001B[0m",
      "\u001B[0;31mValueError\u001B[0m                                Traceback (most recent call last)",
      "Input \u001B[0;32mIn [50]\u001B[0m, in \u001B[0;36m<module>\u001B[0;34m\u001B[0m\n\u001B[1;32m      1\u001B[0m df \u001B[38;5;241m=\u001B[39m pd\u001B[38;5;241m.\u001B[39mDataFrame(columns\u001B[38;5;241m=\u001B[39m[\u001B[38;5;124m'\u001B[39m\u001B[38;5;124mtrfl_xgb\u001B[39m\u001B[38;5;124m'\u001B[39m,\u001B[38;5;124m'\u001B[39m\u001B[38;5;124mtrfl_cb\u001B[39m\u001B[38;5;124m'\u001B[39m,\u001B[38;5;124m'\u001B[39m\u001B[38;5;124mis_sus_xgb\u001B[39m\u001B[38;5;124m'\u001B[39m,\u001B[38;5;124m'\u001B[39m\u001B[38;5;124mis_sus_cb\u001B[39m\u001B[38;5;124m'\u001B[39m,\u001B[38;5;124m'\u001B[39m\u001B[38;5;124mis_toxic_xgb\u001B[39m\u001B[38;5;124m'\u001B[39m,\u001B[38;5;124m'\u001B[39m\u001B[38;5;124mis_toxic_cb\u001B[39m\u001B[38;5;124m'\u001B[39m,\u001B[38;5;124m'\u001B[39m\u001B[38;5;124mis_fake_title_xgb\u001B[39m\u001B[38;5;124m'\u001B[39m,\u001B[38;5;124m'\u001B[39m\u001B[38;5;124mis_fake_title_cb\u001B[39m\u001B[38;5;124m'\u001B[39m,\u001B[38;5;124m'\u001B[39m\u001B[38;5;124mtest_data\u001B[39m\u001B[38;5;124m'\u001B[39m])\n\u001B[0;32m----> 2\u001B[0m df\u001B[38;5;241m.\u001B[39mloc[\u001B[38;5;28mlen\u001B[39m(df\u001B[38;5;241m.\u001B[39mindex)] \u001B[38;5;241m=\u001B[39m [\u001B[38;5;241m0.93613917\u001B[39m, \u001B[38;5;241m1.\u001B[39m    ,     \u001B[38;5;241m0.01052785\u001B[39m, \u001B[38;5;241m0.\u001B[39m  ,       \u001B[38;5;241m0.9958455\u001B[39m , \u001B[38;5;241m1.\u001B[39m,\u001B[38;5;241m0.98552632\u001B[39m ,\u001B[38;5;241m1.\u001B[39m]\n\u001B[1;32m      4\u001B[0m sns\u001B[38;5;241m.\u001B[39mbarplot(x\u001B[38;5;241m=\u001B[39mdf)\n",
      "File \u001B[0;32m~/.local/lib/python3.8/site-packages/pandas/core/indexing.py:716\u001B[0m, in \u001B[0;36m_LocationIndexer.__setitem__\u001B[0;34m(self, key, value)\u001B[0m\n\u001B[1;32m    713\u001B[0m \u001B[38;5;28mself\u001B[39m\u001B[38;5;241m.\u001B[39m_has_valid_setitem_indexer(key)\n\u001B[1;32m    715\u001B[0m iloc \u001B[38;5;241m=\u001B[39m \u001B[38;5;28mself\u001B[39m \u001B[38;5;28;01mif\u001B[39;00m \u001B[38;5;28mself\u001B[39m\u001B[38;5;241m.\u001B[39mname \u001B[38;5;241m==\u001B[39m \u001B[38;5;124m\"\u001B[39m\u001B[38;5;124miloc\u001B[39m\u001B[38;5;124m\"\u001B[39m \u001B[38;5;28;01melse\u001B[39;00m \u001B[38;5;28mself\u001B[39m\u001B[38;5;241m.\u001B[39mobj\u001B[38;5;241m.\u001B[39miloc\n\u001B[0;32m--> 716\u001B[0m \u001B[43miloc\u001B[49m\u001B[38;5;241;43m.\u001B[39;49m\u001B[43m_setitem_with_indexer\u001B[49m\u001B[43m(\u001B[49m\u001B[43mindexer\u001B[49m\u001B[43m,\u001B[49m\u001B[43m \u001B[49m\u001B[43mvalue\u001B[49m\u001B[43m,\u001B[49m\u001B[43m \u001B[49m\u001B[38;5;28;43mself\u001B[39;49m\u001B[38;5;241;43m.\u001B[39;49m\u001B[43mname\u001B[49m\u001B[43m)\u001B[49m\n",
      "File \u001B[0;32m~/.local/lib/python3.8/site-packages/pandas/core/indexing.py:1682\u001B[0m, in \u001B[0;36m_iLocIndexer._setitem_with_indexer\u001B[0;34m(self, indexer, value, name)\u001B[0m\n\u001B[1;32m   1679\u001B[0m     indexer, missing \u001B[38;5;241m=\u001B[39m convert_missing_indexer(indexer)\n\u001B[1;32m   1681\u001B[0m     \u001B[38;5;28;01mif\u001B[39;00m missing:\n\u001B[0;32m-> 1682\u001B[0m         \u001B[38;5;28;43mself\u001B[39;49m\u001B[38;5;241;43m.\u001B[39;49m\u001B[43m_setitem_with_indexer_missing\u001B[49m\u001B[43m(\u001B[49m\u001B[43mindexer\u001B[49m\u001B[43m,\u001B[49m\u001B[43m \u001B[49m\u001B[43mvalue\u001B[49m\u001B[43m)\u001B[49m\n\u001B[1;32m   1683\u001B[0m         \u001B[38;5;28;01mreturn\u001B[39;00m\n\u001B[1;32m   1685\u001B[0m \u001B[38;5;66;03m# align and set the values\u001B[39;00m\n",
      "File \u001B[0;32m~/.local/lib/python3.8/site-packages/pandas/core/indexing.py:1998\u001B[0m, in \u001B[0;36m_iLocIndexer._setitem_with_indexer_missing\u001B[0;34m(self, indexer, value)\u001B[0m\n\u001B[1;32m   1995\u001B[0m     \u001B[38;5;28;01mif\u001B[39;00m is_list_like_indexer(value):\n\u001B[1;32m   1996\u001B[0m         \u001B[38;5;66;03m# must have conforming columns\u001B[39;00m\n\u001B[1;32m   1997\u001B[0m         \u001B[38;5;28;01mif\u001B[39;00m \u001B[38;5;28mlen\u001B[39m(value) \u001B[38;5;241m!=\u001B[39m \u001B[38;5;28mlen\u001B[39m(\u001B[38;5;28mself\u001B[39m\u001B[38;5;241m.\u001B[39mobj\u001B[38;5;241m.\u001B[39mcolumns):\n\u001B[0;32m-> 1998\u001B[0m             \u001B[38;5;28;01mraise\u001B[39;00m \u001B[38;5;167;01mValueError\u001B[39;00m(\u001B[38;5;124m\"\u001B[39m\u001B[38;5;124mcannot set a row with mismatched columns\u001B[39m\u001B[38;5;124m\"\u001B[39m)\n\u001B[1;32m   2000\u001B[0m     value \u001B[38;5;241m=\u001B[39m Series(value, index\u001B[38;5;241m=\u001B[39m\u001B[38;5;28mself\u001B[39m\u001B[38;5;241m.\u001B[39mobj\u001B[38;5;241m.\u001B[39mcolumns, name\u001B[38;5;241m=\u001B[39mindexer)\n\u001B[1;32m   2002\u001B[0m \u001B[38;5;28;01mif\u001B[39;00m \u001B[38;5;129;01mnot\u001B[39;00m \u001B[38;5;28mlen\u001B[39m(\u001B[38;5;28mself\u001B[39m\u001B[38;5;241m.\u001B[39mobj):\n\u001B[1;32m   2003\u001B[0m     \u001B[38;5;66;03m# We will ignore the existing dtypes instead of using\u001B[39;00m\n\u001B[1;32m   2004\u001B[0m     \u001B[38;5;66;03m#  internals.concat logic\u001B[39;00m\n",
      "\u001B[0;31mValueError\u001B[0m: cannot set a row with mismatched columns"
     ]
    }
   ],
   "source": [],
   "metadata": {
    "collapsed": false
   }
  }
 ],
 "metadata": {
  "kernelspec": {
   "display_name": "Python 3",
   "language": "python",
   "name": "python3"
  },
  "language_info": {
   "codemirror_mode": {
    "name": "ipython",
    "version": 2
   },
   "file_extension": ".py",
   "mimetype": "text/x-python",
   "name": "python",
   "nbconvert_exporter": "python",
   "pygments_lexer": "ipython2",
   "version": "2.7.6"
  }
 },
 "nbformat": 4,
 "nbformat_minor": 0
}
